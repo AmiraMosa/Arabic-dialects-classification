{
  "cells": [
    {
      "cell_type": "code",
      "execution_count": 10,
      "id": "be3a7bb8",
      "metadata": {
        "id": "be3a7bb8"
      },
      "outputs": [],
      "source": [
        "import pandas as pd\n",
        "import numpy as np\n",
        "import codecs\n",
        "\n",
        "import matplotlib as plt\n",
        "import seaborn as sns\n",
        "\n",
        "import re\n",
        "import string\n",
        "\n",
        "\n",
        "import nltk\n",
        "from nltk.tokenize import word_tokenize\n",
        "\n",
        "from sklearn.model_selection import train_test_split\n",
        "\n",
        "from keras.preprocessing.sequence import pad_sequences\n",
        "\n",
        "import multiprocessing\n",
        "from gensim.models import Word2Vec\n",
        "\n",
        "from keras.preprocessing.text import Tokenizer\n",
        "\n",
        "\n",
        "from keras.models import Sequential\n",
        "from keras.layers import Activation, Dense, Dropout, Embedding, Flatten, Conv1D, MaxPooling1D, LSTM"
      ]
    },
    {
      "cell_type": "code",
      "source": [
        "# !gdown --id 1GAJJWPMtapTN_Cxhdo2kL8VZa7PIQp7x"
      ],
      "metadata": {
        "id": "neXg5h3o5lmH"
      },
      "id": "neXg5h3o5lmH",
      "execution_count": 11,
      "outputs": []
    },
    {
      "cell_type": "code",
      "source": [
        "df = pd.read_json(codecs.open(\"df.json\", \"r\", \"utf-8\"))"
      ],
      "metadata": {
        "id": "8EKG_s2p4XGn"
      },
      "id": "8EKG_s2p4XGn",
      "execution_count": 12,
      "outputs": []
    },
    {
      "cell_type": "code",
      "execution_count": 13,
      "id": "f6b05cdc",
      "metadata": {
        "colab": {
          "base_uri": "https://localhost:8080/",
          "height": 206
        },
        "id": "f6b05cdc",
        "outputId": "acd6f997-d6d7-4646-bdde-d56f144dbe06"
      },
      "outputs": [
        {
          "output_type": "execute_result",
          "data": {
            "text/plain": [
              "                    id                                               text  \\\n",
              "0  1165317340441063424  @SaIem @AlJazira_uae عشانك سويلم مسحته .. \\n\\n...   \n",
              "1  1165334256937328640  @Dr_Humd تليفونك ، سماعة الايفون ، الايباد .. ...   \n",
              "2  1165334824716034048  @Dr_Humd @Adel_AlBastaki اذا فونك ضاع تكون حاط...   \n",
              "3  1165335027074207488  @_zmm4 @Adel_AlBastaki @Dr_Humd بيطلع وين اخر ...   \n",
              "4  1165348372649259008  شنو هالنادي اللي كل لعيبته من المنتخب و يطلعلك...   \n",
              "\n",
              "  dialect  \n",
              "0      AE  \n",
              "1      AE  \n",
              "2      AE  \n",
              "3      AE  \n",
              "4      AE  "
            ],
            "text/html": [
              "\n",
              "  <div id=\"df-33f5dd88-cc15-4cc9-a230-07dfe0caf3dd\">\n",
              "    <div class=\"colab-df-container\">\n",
              "      <div>\n",
              "<style scoped>\n",
              "    .dataframe tbody tr th:only-of-type {\n",
              "        vertical-align: middle;\n",
              "    }\n",
              "\n",
              "    .dataframe tbody tr th {\n",
              "        vertical-align: top;\n",
              "    }\n",
              "\n",
              "    .dataframe thead th {\n",
              "        text-align: right;\n",
              "    }\n",
              "</style>\n",
              "<table border=\"1\" class=\"dataframe\">\n",
              "  <thead>\n",
              "    <tr style=\"text-align: right;\">\n",
              "      <th></th>\n",
              "      <th>id</th>\n",
              "      <th>text</th>\n",
              "      <th>dialect</th>\n",
              "    </tr>\n",
              "  </thead>\n",
              "  <tbody>\n",
              "    <tr>\n",
              "      <th>0</th>\n",
              "      <td>1165317340441063424</td>\n",
              "      <td>@SaIem @AlJazira_uae عشانك سويلم مسحته .. \\n\\n...</td>\n",
              "      <td>AE</td>\n",
              "    </tr>\n",
              "    <tr>\n",
              "      <th>1</th>\n",
              "      <td>1165334256937328640</td>\n",
              "      <td>@Dr_Humd تليفونك ، سماعة الايفون ، الايباد .. ...</td>\n",
              "      <td>AE</td>\n",
              "    </tr>\n",
              "    <tr>\n",
              "      <th>2</th>\n",
              "      <td>1165334824716034048</td>\n",
              "      <td>@Dr_Humd @Adel_AlBastaki اذا فونك ضاع تكون حاط...</td>\n",
              "      <td>AE</td>\n",
              "    </tr>\n",
              "    <tr>\n",
              "      <th>3</th>\n",
              "      <td>1165335027074207488</td>\n",
              "      <td>@_zmm4 @Adel_AlBastaki @Dr_Humd بيطلع وين اخر ...</td>\n",
              "      <td>AE</td>\n",
              "    </tr>\n",
              "    <tr>\n",
              "      <th>4</th>\n",
              "      <td>1165348372649259008</td>\n",
              "      <td>شنو هالنادي اللي كل لعيبته من المنتخب و يطلعلك...</td>\n",
              "      <td>AE</td>\n",
              "    </tr>\n",
              "  </tbody>\n",
              "</table>\n",
              "</div>\n",
              "      <button class=\"colab-df-convert\" onclick=\"convertToInteractive('df-33f5dd88-cc15-4cc9-a230-07dfe0caf3dd')\"\n",
              "              title=\"Convert this dataframe to an interactive table.\"\n",
              "              style=\"display:none;\">\n",
              "        \n",
              "  <svg xmlns=\"http://www.w3.org/2000/svg\" height=\"24px\"viewBox=\"0 0 24 24\"\n",
              "       width=\"24px\">\n",
              "    <path d=\"M0 0h24v24H0V0z\" fill=\"none\"/>\n",
              "    <path d=\"M18.56 5.44l.94 2.06.94-2.06 2.06-.94-2.06-.94-.94-2.06-.94 2.06-2.06.94zm-11 1L8.5 8.5l.94-2.06 2.06-.94-2.06-.94L8.5 2.5l-.94 2.06-2.06.94zm10 10l.94 2.06.94-2.06 2.06-.94-2.06-.94-.94-2.06-.94 2.06-2.06.94z\"/><path d=\"M17.41 7.96l-1.37-1.37c-.4-.4-.92-.59-1.43-.59-.52 0-1.04.2-1.43.59L10.3 9.45l-7.72 7.72c-.78.78-.78 2.05 0 2.83L4 21.41c.39.39.9.59 1.41.59.51 0 1.02-.2 1.41-.59l7.78-7.78 2.81-2.81c.8-.78.8-2.07 0-2.86zM5.41 20L4 18.59l7.72-7.72 1.47 1.35L5.41 20z\"/>\n",
              "  </svg>\n",
              "      </button>\n",
              "      \n",
              "  <style>\n",
              "    .colab-df-container {\n",
              "      display:flex;\n",
              "      flex-wrap:wrap;\n",
              "      gap: 12px;\n",
              "    }\n",
              "\n",
              "    .colab-df-convert {\n",
              "      background-color: #E8F0FE;\n",
              "      border: none;\n",
              "      border-radius: 50%;\n",
              "      cursor: pointer;\n",
              "      display: none;\n",
              "      fill: #1967D2;\n",
              "      height: 32px;\n",
              "      padding: 0 0 0 0;\n",
              "      width: 32px;\n",
              "    }\n",
              "\n",
              "    .colab-df-convert:hover {\n",
              "      background-color: #E2EBFA;\n",
              "      box-shadow: 0px 1px 2px rgba(60, 64, 67, 0.3), 0px 1px 3px 1px rgba(60, 64, 67, 0.15);\n",
              "      fill: #174EA6;\n",
              "    }\n",
              "\n",
              "    [theme=dark] .colab-df-convert {\n",
              "      background-color: #3B4455;\n",
              "      fill: #D2E3FC;\n",
              "    }\n",
              "\n",
              "    [theme=dark] .colab-df-convert:hover {\n",
              "      background-color: #434B5C;\n",
              "      box-shadow: 0px 1px 3px 1px rgba(0, 0, 0, 0.15);\n",
              "      filter: drop-shadow(0px 1px 2px rgba(0, 0, 0, 0.3));\n",
              "      fill: #FFFFFF;\n",
              "    }\n",
              "  </style>\n",
              "\n",
              "      <script>\n",
              "        const buttonEl =\n",
              "          document.querySelector('#df-33f5dd88-cc15-4cc9-a230-07dfe0caf3dd button.colab-df-convert');\n",
              "        buttonEl.style.display =\n",
              "          google.colab.kernel.accessAllowed ? 'block' : 'none';\n",
              "\n",
              "        async function convertToInteractive(key) {\n",
              "          const element = document.querySelector('#df-33f5dd88-cc15-4cc9-a230-07dfe0caf3dd');\n",
              "          const dataTable =\n",
              "            await google.colab.kernel.invokeFunction('convertToInteractive',\n",
              "                                                     [key], {});\n",
              "          if (!dataTable) return;\n",
              "\n",
              "          const docLinkHtml = 'Like what you see? Visit the ' +\n",
              "            '<a target=\"_blank\" href=https://colab.research.google.com/notebooks/data_table.ipynb>data table notebook</a>'\n",
              "            + ' to learn more about interactive tables.';\n",
              "          element.innerHTML = '';\n",
              "          dataTable['output_type'] = 'display_data';\n",
              "          await google.colab.output.renderOutput(dataTable, element);\n",
              "          const docLink = document.createElement('div');\n",
              "          docLink.innerHTML = docLinkHtml;\n",
              "          element.appendChild(docLink);\n",
              "        }\n",
              "      </script>\n",
              "    </div>\n",
              "  </div>\n",
              "  "
            ]
          },
          "metadata": {},
          "execution_count": 13
        }
      ],
      "source": [
        "df.head()"
      ]
    },
    {
      "cell_type": "code",
      "execution_count": 14,
      "id": "3897b5e9",
      "metadata": {
        "colab": {
          "base_uri": "https://localhost:8080/"
        },
        "id": "3897b5e9",
        "outputId": "744c91ec-4f48-4fcc-a66a-f5480c58ca9b"
      },
      "outputs": [
        {
          "output_type": "execute_result",
          "data": {
            "text/plain": [
              "(458197, 3)"
            ]
          },
          "metadata": {},
          "execution_count": 14
        }
      ],
      "source": [
        "df.shape"
      ]
    },
    {
      "cell_type": "code",
      "execution_count": 15,
      "id": "611072a6",
      "metadata": {
        "colab": {
          "base_uri": "https://localhost:8080/",
          "height": 206
        },
        "id": "611072a6",
        "outputId": "cc9c68c1-b9a8-4bd3-a2c4-6f5dff040792"
      },
      "outputs": [
        {
          "output_type": "execute_result",
          "data": {
            "text/plain": [
              "                    id                                               text  \\\n",
              "0  1165317340441063424  @SaIem @AlJazira_uae عشانك سويلم مسحته .. \\n\\n...   \n",
              "1  1165334256937328640  @Dr_Humd تليفونك ، سماعة الايفون ، الايباد .. ...   \n",
              "2  1165334824716034048  @Dr_Humd @Adel_AlBastaki اذا فونك ضاع تكون حاط...   \n",
              "3  1165335027074207488  @_zmm4 @Adel_AlBastaki @Dr_Humd بيطلع وين اخر ...   \n",
              "4  1165348372649259008  شنو هالنادي اللي كل لعيبته من المنتخب و يطلعلك...   \n",
              "\n",
              "  dialect  \n",
              "0      AE  \n",
              "1      AE  \n",
              "2      AE  \n",
              "3      AE  \n",
              "4      AE  "
            ],
            "text/html": [
              "\n",
              "  <div id=\"df-ffd7ebaa-b244-49c8-a8ac-f9f6224f66aa\">\n",
              "    <div class=\"colab-df-container\">\n",
              "      <div>\n",
              "<style scoped>\n",
              "    .dataframe tbody tr th:only-of-type {\n",
              "        vertical-align: middle;\n",
              "    }\n",
              "\n",
              "    .dataframe tbody tr th {\n",
              "        vertical-align: top;\n",
              "    }\n",
              "\n",
              "    .dataframe thead th {\n",
              "        text-align: right;\n",
              "    }\n",
              "</style>\n",
              "<table border=\"1\" class=\"dataframe\">\n",
              "  <thead>\n",
              "    <tr style=\"text-align: right;\">\n",
              "      <th></th>\n",
              "      <th>id</th>\n",
              "      <th>text</th>\n",
              "      <th>dialect</th>\n",
              "    </tr>\n",
              "  </thead>\n",
              "  <tbody>\n",
              "    <tr>\n",
              "      <th>0</th>\n",
              "      <td>1165317340441063424</td>\n",
              "      <td>@SaIem @AlJazira_uae عشانك سويلم مسحته .. \\n\\n...</td>\n",
              "      <td>AE</td>\n",
              "    </tr>\n",
              "    <tr>\n",
              "      <th>1</th>\n",
              "      <td>1165334256937328640</td>\n",
              "      <td>@Dr_Humd تليفونك ، سماعة الايفون ، الايباد .. ...</td>\n",
              "      <td>AE</td>\n",
              "    </tr>\n",
              "    <tr>\n",
              "      <th>2</th>\n",
              "      <td>1165334824716034048</td>\n",
              "      <td>@Dr_Humd @Adel_AlBastaki اذا فونك ضاع تكون حاط...</td>\n",
              "      <td>AE</td>\n",
              "    </tr>\n",
              "    <tr>\n",
              "      <th>3</th>\n",
              "      <td>1165335027074207488</td>\n",
              "      <td>@_zmm4 @Adel_AlBastaki @Dr_Humd بيطلع وين اخر ...</td>\n",
              "      <td>AE</td>\n",
              "    </tr>\n",
              "    <tr>\n",
              "      <th>4</th>\n",
              "      <td>1165348372649259008</td>\n",
              "      <td>شنو هالنادي اللي كل لعيبته من المنتخب و يطلعلك...</td>\n",
              "      <td>AE</td>\n",
              "    </tr>\n",
              "  </tbody>\n",
              "</table>\n",
              "</div>\n",
              "      <button class=\"colab-df-convert\" onclick=\"convertToInteractive('df-ffd7ebaa-b244-49c8-a8ac-f9f6224f66aa')\"\n",
              "              title=\"Convert this dataframe to an interactive table.\"\n",
              "              style=\"display:none;\">\n",
              "        \n",
              "  <svg xmlns=\"http://www.w3.org/2000/svg\" height=\"24px\"viewBox=\"0 0 24 24\"\n",
              "       width=\"24px\">\n",
              "    <path d=\"M0 0h24v24H0V0z\" fill=\"none\"/>\n",
              "    <path d=\"M18.56 5.44l.94 2.06.94-2.06 2.06-.94-2.06-.94-.94-2.06-.94 2.06-2.06.94zm-11 1L8.5 8.5l.94-2.06 2.06-.94-2.06-.94L8.5 2.5l-.94 2.06-2.06.94zm10 10l.94 2.06.94-2.06 2.06-.94-2.06-.94-.94-2.06-.94 2.06-2.06.94z\"/><path d=\"M17.41 7.96l-1.37-1.37c-.4-.4-.92-.59-1.43-.59-.52 0-1.04.2-1.43.59L10.3 9.45l-7.72 7.72c-.78.78-.78 2.05 0 2.83L4 21.41c.39.39.9.59 1.41.59.51 0 1.02-.2 1.41-.59l7.78-7.78 2.81-2.81c.8-.78.8-2.07 0-2.86zM5.41 20L4 18.59l7.72-7.72 1.47 1.35L5.41 20z\"/>\n",
              "  </svg>\n",
              "      </button>\n",
              "      \n",
              "  <style>\n",
              "    .colab-df-container {\n",
              "      display:flex;\n",
              "      flex-wrap:wrap;\n",
              "      gap: 12px;\n",
              "    }\n",
              "\n",
              "    .colab-df-convert {\n",
              "      background-color: #E8F0FE;\n",
              "      border: none;\n",
              "      border-radius: 50%;\n",
              "      cursor: pointer;\n",
              "      display: none;\n",
              "      fill: #1967D2;\n",
              "      height: 32px;\n",
              "      padding: 0 0 0 0;\n",
              "      width: 32px;\n",
              "    }\n",
              "\n",
              "    .colab-df-convert:hover {\n",
              "      background-color: #E2EBFA;\n",
              "      box-shadow: 0px 1px 2px rgba(60, 64, 67, 0.3), 0px 1px 3px 1px rgba(60, 64, 67, 0.15);\n",
              "      fill: #174EA6;\n",
              "    }\n",
              "\n",
              "    [theme=dark] .colab-df-convert {\n",
              "      background-color: #3B4455;\n",
              "      fill: #D2E3FC;\n",
              "    }\n",
              "\n",
              "    [theme=dark] .colab-df-convert:hover {\n",
              "      background-color: #434B5C;\n",
              "      box-shadow: 0px 1px 3px 1px rgba(0, 0, 0, 0.15);\n",
              "      filter: drop-shadow(0px 1px 2px rgba(0, 0, 0, 0.3));\n",
              "      fill: #FFFFFF;\n",
              "    }\n",
              "  </style>\n",
              "\n",
              "      <script>\n",
              "        const buttonEl =\n",
              "          document.querySelector('#df-ffd7ebaa-b244-49c8-a8ac-f9f6224f66aa button.colab-df-convert');\n",
              "        buttonEl.style.display =\n",
              "          google.colab.kernel.accessAllowed ? 'block' : 'none';\n",
              "\n",
              "        async function convertToInteractive(key) {\n",
              "          const element = document.querySelector('#df-ffd7ebaa-b244-49c8-a8ac-f9f6224f66aa');\n",
              "          const dataTable =\n",
              "            await google.colab.kernel.invokeFunction('convertToInteractive',\n",
              "                                                     [key], {});\n",
              "          if (!dataTable) return;\n",
              "\n",
              "          const docLinkHtml = 'Like what you see? Visit the ' +\n",
              "            '<a target=\"_blank\" href=https://colab.research.google.com/notebooks/data_table.ipynb>data table notebook</a>'\n",
              "            + ' to learn more about interactive tables.';\n",
              "          element.innerHTML = '';\n",
              "          dataTable['output_type'] = 'display_data';\n",
              "          await google.colab.output.renderOutput(dataTable, element);\n",
              "          const docLink = document.createElement('div');\n",
              "          docLink.innerHTML = docLinkHtml;\n",
              "          element.appendChild(docLink);\n",
              "        }\n",
              "      </script>\n",
              "    </div>\n",
              "  </div>\n",
              "  "
            ]
          },
          "metadata": {},
          "execution_count": 15
        }
      ],
      "source": [
        "df.head()"
      ]
    },
    {
      "cell_type": "code",
      "execution_count": 16,
      "id": "fd26f405",
      "metadata": {
        "colab": {
          "base_uri": "https://localhost:8080/",
          "height": 353
        },
        "id": "fd26f405",
        "outputId": "27411c00-e4fc-44ea-e748-2e9b92c1af76"
      },
      "outputs": [
        {
          "output_type": "stream",
          "name": "stderr",
          "text": [
            "/usr/local/lib/python3.7/dist-packages/seaborn/_decorators.py:43: FutureWarning: Pass the following variable as a keyword arg: x. From version 0.12, the only valid positional argument will be `data`, and passing other arguments without an explicit keyword will result in an error or misinterpretation.\n",
            "  FutureWarning\n"
          ]
        },
        {
          "output_type": "execute_result",
          "data": {
            "text/plain": [
              "<matplotlib.axes._subplots.AxesSubplot at 0x7f39c06a0390>"
            ]
          },
          "metadata": {},
          "execution_count": 16
        },
        {
          "output_type": "display_data",
          "data": {
            "text/plain": [
              "<Figure size 432x288 with 1 Axes>"
            ],
            "image/png": "[encoded data removed]"
          },
          "metadata": {
            "needs_background": "light"
          }
        }
      ],
      "source": [
        "sns.countplot(df['dialect'])"
      ]
    },
    {
      "cell_type": "markdown",
      "id": "a36d27d1",
      "metadata": {
        "id": "a36d27d1"
      },
      "source": [
        "## Data cleaning\n"
      ]
    },
    {
      "cell_type": "code",
      "execution_count": 17,
      "id": "057e7140",
      "metadata": {
        "id": "057e7140"
      },
      "outputs": [],
      "source": [
        "##removing hashtags\n",
        "def hashtag(text):\n",
        "    pattern = r'#\\w*'\n",
        "    clean_text = re.sub(pattern,' ',text)\n",
        "    return clean_text\n",
        "\n",
        "\n",
        "##removing mentions\n",
        "def mention(text):\n",
        "    pattern = r'@\\w*'\n",
        "    clean_text = re.sub(pattern,' ',text)\n",
        "    return clean_text\n",
        "\n",
        "\n",
        "##removing puctuations\n",
        "def puctuation(text):\n",
        "    arabic_punctuations  = r'''`÷×؛<>_()*&^%][ـ،/:\"\\؟.,'{}~¦+|!”…“–ـ'''\n",
        "    english_punctuations = string.punctuation\n",
        "    punctuations_list = arabic_punctuations + english_punctuations\n",
        "#     clean_text = re.sub(punctuations_list,' ',text)\n",
        "    translator = str.maketrans('', '', punctuations_list)\n",
        "    return text.translate(translator)\n",
        "    #return clean_text\n",
        "\n",
        "\n",
        "\n",
        "##removing diacritics\n",
        "def diacritics(text):\n",
        "    pattern = re.compile(\"\"\"\n",
        "                             ّ    | # Tashdid\n",
        "                             َ    | # Fatha\n",
        "                             ً    | # Tanwin Fath\n",
        "                             ُ    | # Damma\n",
        "                             ٌ    | # Tanwin Damm\n",
        "                             ِ    | # Kasra\n",
        "                             ٍ    | # Tanwin Kasr\n",
        "                             ْ    | # Sukun\n",
        "                             ـ     # Tatwil/Kashida\n",
        "                         \"\"\", re.VERBOSE)\n",
        "    clean_text = re.sub(pattern, '', text)\n",
        "    return clean_text\n",
        "\n",
        "\n",
        "    \n",
        "##removing digits\n",
        "def digit(text):\n",
        "    psttern = r'[~^0-9]'\n",
        "    clean_text = ''.join([char for char in text if not char.isdigit()])\n",
        "    return clean_text\n",
        "\n",
        "\n",
        "##removing urls\n",
        "def url(text):\n",
        "    pattern = r'http[s]?://[^\\s]+'\n",
        "    clean_text = re.sub(pattern,' ',text)\n",
        "    return clean_text\n",
        "\n",
        "\n",
        "##removing emojis\n",
        "def emoji(text):\n",
        "    pattern = re.compile(\"[\"\n",
        "        u\"\\U0001F600-\\U0001F64F\"  # emoticons\n",
        "        u\"\\U0001F300-\\U0001F5FF\"  # symbols & pictographs\n",
        "        u\"\\U0001F680-\\U0001F6FF\"  # transport & map symbols\n",
        "        u\"\\U0001F1E0-\\U0001F1FF\"  # flags (iOS)\n",
        "        u\"\\U00002500-\\U00002BEF\"  # chinese char\n",
        "        u\"\\U00002702-\\U000027B0\"\n",
        "        u\"\\U00002702-\\U000027B0\"\n",
        "        u\"\\U000024C2-\\U0001F251\"\n",
        "        u\"\\U0001f926-\\U0001f937\"\n",
        "        u\"\\U00010000-\\U0010ffff\"\n",
        "        u\"\\u2640-\\u2642\" \n",
        "        u\"\\u2600-\\u2B55\"\n",
        "        u\"\\u200d\"\n",
        "        u\"\\u23cf\"\n",
        "        u\"\\u23e9\"\n",
        "        u\"\\u231a\"\n",
        "        u\"\\ufe0f\"  # dingbats\n",
        "        u\"\\u3030\"\n",
        "                      \"]+\", re.UNICODE)\n",
        "    clean_text = re.sub(pattern,' ',text)\n",
        "    return clean_text\n",
        "\n",
        "\n",
        "##removing extra_spaces\n",
        "def extra_space(text):\n",
        "    pattern = r'\\s\\s+'\n",
        "    clean_text = re.sub(pattern,' ',text)\n",
        "    #clean_text = \"\".join(text.split())\n",
        "    return clean_text\n",
        "\n",
        "\n",
        "def english_words(text):\n",
        "    pattern = r'[a-zA-Z]'\n",
        "    clean_text = re.sub(pattern, '', text)\n",
        "    return clean_text\n",
        "\n",
        "\n",
        "##remove repeated characters\n",
        "def repeated_char(text):\n",
        "    return re.sub(r'(.)\\1+', r'\\1', text)\n",
        "\n",
        "\n",
        "##removing english characters\n",
        "# def english_char(text):\n",
        "#     pattern = r'[a-zA-Z]+'\n",
        "#     clean_text = re.sub(pattern, '', text)\n",
        "#     return clean_text\n",
        "\n",
        "\n",
        "# def date(text):\n",
        "#     pattern = r'\\d{2}[-/.]?\\d{2}[-/.]?\\d{4}'\n",
        "#     clean_text = re.sub(pattern,' ',text)\n",
        "#     return clean_text\n",
        "\n",
        "\n",
        "# def time(text):\n",
        "#     pattern = r'\\d{2}:\\d{2} \\w*'\n",
        "#     clean_text = re.sub(pattern,' ',text)\n",
        "#     return clean_text"
      ]
    },
    {
      "cell_type": "markdown",
      "id": "de3796be",
      "metadata": {
        "id": "de3796be"
      },
      "source": [
        "#### all together"
      ]
    },
    {
      "cell_type": "code",
      "execution_count": 18,
      "id": "901eb238",
      "metadata": {
        "id": "901eb238"
      },
      "outputs": [],
      "source": [
        "def clean_tweet(tweet):\n",
        "    tweet = hashtag(tweet)\n",
        "    tweet = mention(tweet)\n",
        "    tweet = puctuation(tweet)\n",
        "    tweet = digit(tweet)\n",
        "    tweet = url(tweet)\n",
        "    tweet = emoji(tweet)\n",
        "    tweet = english_words(tweet)\n",
        "    tweet = extra_space(tweet)\n",
        "    tweet = diacritics(tweet)\n",
        "    tweet = repeated_char(tweet)\n",
        "    #tweet = english_char(tweet)\n",
        "    #tweet = date(tweet)\n",
        "    #tweet = time(tweet)\n",
        "    #tweet = extra_space(tweet)\n",
        "    return tweet"
      ]
    },
    {
      "cell_type": "code",
      "execution_count": 20,
      "id": "d275f1d0",
      "metadata": {
        "id": "d275f1d0"
      },
      "outputs": [],
      "source": [
        "df['text'] = df['text'].apply(lambda x:clean_tweet(x))"
      ]
    },
    {
      "cell_type": "code",
      "execution_count": 21,
      "id": "2dfe5b2c",
      "metadata": {
        "colab": {
          "base_uri": "https://localhost:8080/",
          "height": 1000
        },
        "id": "2dfe5b2c",
        "outputId": "43a1fd42-3f9d-40c5-c9e9-ceb7bf9eeac1"
      },
      "outputs": [
        {
          "output_type": "execute_result",
          "data": {
            "text/plain": [
              "                         id  \\\n",
              "458147  1161576617673723904   \n",
              "458148  1161577284656074752   \n",
              "458149  1161578669514645504   \n",
              "458150  1161985893449764864   \n",
              "458151  1130588925146357760   \n",
              "458152  1131930493061128192   \n",
              "458153  1132837388399648768   \n",
              "458154  1133709311715238016   \n",
              "458155  1133765350724706432   \n",
              "458156  1135212835951337600   \n",
              "458157  1135356023093567616   \n",
              "458158  1135364500117434368   \n",
              "458159  1135609174551945216   \n",
              "458160  1136334465276551168   \n",
              "458161  1136334563029016576   \n",
              "458162  1137754567188393984   \n",
              "458163  1137762721867403264   \n",
              "458164  1138802046709260416   \n",
              "458165  1139114372586979200   \n",
              "458166  1139844159412592640   \n",
              "458167  1139844564347478016   \n",
              "458168  1139940096415870976   \n",
              "458169  1140031403473670016   \n",
              "458170  1140032653816664064   \n",
              "458171  1140270102492958848   \n",
              "458172  1140374284906499968   \n",
              "458173  1140452373879566336   \n",
              "458174  1140532748706340864   \n",
              "458175  1140761512321146752   \n",
              "458176  1141041466225111040   \n",
              "458177  1141045028044849152   \n",
              "458178  1141045656846557184   \n",
              "458179  1141101805679599616   \n",
              "458180  1141391126609444864   \n",
              "458181  1141419107205734400   \n",
              "458182  1141560838375055360   \n",
              "458183  1141567034196660224   \n",
              "458184  1141568955406069760   \n",
              "458185  1141816797483679616   \n",
              "458186  1141831729323421568   \n",
              "458187  1141912016564772864   \n",
              "458188  1141912322287513600   \n",
              "458189  1141933230553292800   \n",
              "458190  1141934866201751552   \n",
              "458191  1142058777295892352   \n",
              "458192  1142159253211439232   \n",
              "458193  1142461257313849216   \n",
              "458194  1142485949198274560   \n",
              "458195  1142491961250779136   \n",
              "458196  1142623397219831808   \n",
              "\n",
              "                                                     text dialect  \n",
              "458147   ويعتدي عالمشجع ولاياتي الا شوط أو اقل خلص لاز...      SY  \n",
              "458148   ه واقف عالخط وناظر التبديل وطلع فراعه بيوقفوه...      SY  \n",
              "458149   ه ماهر معاقب واقف عالخط وناظر التبديل ويتبدل ...      SY  \n",
              "458150         الإتفاق الأمريكي الإيراني بيعطيهن الأريحيه      SY  \n",
              "458151                             يلي بلشت فيهم عم كملهم      SY  \n",
              "458152   قال اكتر شي بخوفها بالحياة انو الناس يلي طلعت...      SY  \n",
              "458153   بالعكس انا بنصح كل حدا عملها او بدو يعملها لا...      SY  \n",
              "458154  عندي سفرة حوالي ساعتين ونص حدا عندو اقتراح لشي...      SY  \n",
              "458155   معلم هدول كتب صح حلوين بس بدهم مخمخة وقعدة رو...      SY  \n",
              "458156   شعبة التجنيد مابتفهم عليهم شي منوب بتحسهم بده...      SY  \n",
              "458157  توصيات لشي محل او صفحة ع الفيس بتعمل كنزات بول...      SY  \n",
              "458158   هو الاغلبية صح هيك بس معقول مايلتقى حدا عندو ...      SY  \n",
              "458159  رايح وصل أهلي ع المول وبكرا العيد دعولي بالثبا...      SY  \n",
              "458160                   الصبح مافي شمس بس الجو رطوبة شوي      SY  \n",
              "458161                   هاد مشى مخص اخيرا لمشي والبسكليت      SY  \n",
              "458162  ورجعنا ع النادي في محاولة لخسارة دهون طبخات رم...      SY  \n",
              "458163   هلا منيح اول خطوة انو رجعنا لنادي الخطوة التا...      SY  \n",
              "458164   بهيك حالات بيكون الحق ع الشعب وعيو ولاسف مافي...      SY  \n",
              "458165                             انصحه يبطل شحادة رتويت      SY  \n",
              "458166   هلا مابعرف بالضبط يلي فهمتو انو اخدتو تصريح ل...      SY  \n",
              "458167   واله ماشفت منو شي ولابعرف شي بس كالعادة الموا...      SY  \n",
              "458168   اله يرضى عليك من امي او ابي بتنسيني اي تعب وا...      SY  \n",
              "458169                   لي سعد الصغير وين راحت فيفي عبدو      SY  \n",
              "458170   عملوهن كباب وعملي عزيمه لأسد خليه ياكل منهم ب...      SY  \n",
              "458171      كل سوريا هيك شو المضيق نيئه غيرشكل عن الخليقه      SY  \n",
              "458172                        اوف سبع سنين واله اني عتيق       SY  \n",
              "458173   ياحبيبي هاد احد حاقد والعتب إلى مشغلينو بالقن...      SY  \n",
              "458174                             بلاها هاي الامارحم ربي      SY  \n",
              "458175     والإخوان مافهمو الدرس وأعلنوا حل الحزب وريحونا      SY  \n",
              "458176           هاد شوفي براسو ياترى في مخ متل المخلوقات      SY  \n",
              "458177                           شوكاي قوات الإمارات لهون      SY  \n",
              "458178                          واله تاني يوم بصير إيراني      SY  \n",
              "458179   قادمه بس مشغولين بقتل السورين بالأيام بس يخلص...      SY  \n",
              "458180       من يملك ماقلت بيستاهل القتل بالجزمه لأنه سكت      SY  \n",
              "458181             هاي العالم بلامخ صارو موتين نص المشايخ      SY  \n",
              "458182   العاده بتسلمن اياها أمريكا ليقوموباستنساخ متل...      SY  \n",
              "458183   هلأ بيهجمو نفسي واحد يخبرني عن جرائم الإخوان ...      SY  \n",
              "458184                           بتجي لعندك ماتروح ولاتجي      SY  \n",
              "458185   هي اكيد مو وسخ الدنيا ومهمة بالحياة بس هي مو ...      SY  \n",
              "458186                         تروح عند خالتها وتقعداسبوع      SY  \n",
              "458187                     ه واله ردأمريكي خطير على إيران      SY  \n",
              "458188                              وليش مالا مين لمبادله      SY  \n",
              "458189                   طائراتها هي حره تروح مطرح مابدها      SY  \n",
              "458190   ه مفكر النظام السوري بيسمع الكلام حبيبي هاد ب...      SY  \n",
              "458191              طارق كلهن مناح مابغضر فضل حدى على حدى      SY  \n",
              "458192        يالطيف على أساس المسد سات شغله نادرا ماتوجد      SY  \n",
              "458193   ماعمري شفت هالإعلامي غير بالأيام متى صار إغلا...      SY  \n",
              "458194  سألت من أكترمن عشرة أيام سؤال\\nحسين مرتضى كان ...      SY  \n",
              "458195   وليش لسه بتعتقدبالأم المتحده\\nماشفت كيف بتقدم...      SY  \n",
              "458196          يجوز ولكن قريت عم تقول هتاف المصرين لسيسي      SY  "
            ],
            "text/html": [
              "\n",
              "  <div id=\"df-12da6783-7782-46d4-ba96-0e1e557ab033\">\n",
              "    <div class=\"colab-df-container\">\n",
              "      <div>\n",
              "<style scoped>\n",
              "    .dataframe tbody tr th:only-of-type {\n",
              "        vertical-align: middle;\n",
              "    }\n",
              "\n",
              "    .dataframe tbody tr th {\n",
              "        vertical-align: top;\n",
              "    }\n",
              "\n",
              "    .dataframe thead th {\n",
              "        text-align: right;\n",
              "    }\n",
              "</style>\n",
              "<table border=\"1\" class=\"dataframe\">\n",
              "  <thead>\n",
              "    <tr style=\"text-align: right;\">\n",
              "      <th></th>\n",
              "      <th>id</th>\n",
              "      <th>text</th>\n",
              "      <th>dialect</th>\n",
              "    </tr>\n",
              "  </thead>\n",
              "  <tbody>\n",
              "    <tr>\n",
              "      <th>458147</th>\n",
              "      <td>1161576617673723904</td>\n",
              "      <td>ويعتدي عالمشجع ولاياتي الا شوط أو اقل خلص لاز...</td>\n",
              "      <td>SY</td>\n",
              "    </tr>\n",
              "    <tr>\n",
              "      <th>458148</th>\n",
              "      <td>1161577284656074752</td>\n",
              "      <td>ه واقف عالخط وناظر التبديل وطلع فراعه بيوقفوه...</td>\n",
              "      <td>SY</td>\n",
              "    </tr>\n",
              "    <tr>\n",
              "      <th>458149</th>\n",
              "      <td>1161578669514645504</td>\n",
              "      <td>ه ماهر معاقب واقف عالخط وناظر التبديل ويتبدل ...</td>\n",
              "      <td>SY</td>\n",
              "    </tr>\n",
              "    <tr>\n",
              "      <th>458150</th>\n",
              "      <td>1161985893449764864</td>\n",
              "      <td>الإتفاق الأمريكي الإيراني بيعطيهن الأريحيه</td>\n",
              "      <td>SY</td>\n",
              "    </tr>\n",
              "    <tr>\n",
              "      <th>458151</th>\n",
              "      <td>1130588925146357760</td>\n",
              "      <td>يلي بلشت فيهم عم كملهم</td>\n",
              "      <td>SY</td>\n",
              "    </tr>\n",
              "    <tr>\n",
              "      <th>458152</th>\n",
              "      <td>1131930493061128192</td>\n",
              "      <td>قال اكتر شي بخوفها بالحياة انو الناس يلي طلعت...</td>\n",
              "      <td>SY</td>\n",
              "    </tr>\n",
              "    <tr>\n",
              "      <th>458153</th>\n",
              "      <td>1132837388399648768</td>\n",
              "      <td>بالعكس انا بنصح كل حدا عملها او بدو يعملها لا...</td>\n",
              "      <td>SY</td>\n",
              "    </tr>\n",
              "    <tr>\n",
              "      <th>458154</th>\n",
              "      <td>1133709311715238016</td>\n",
              "      <td>عندي سفرة حوالي ساعتين ونص حدا عندو اقتراح لشي...</td>\n",
              "      <td>SY</td>\n",
              "    </tr>\n",
              "    <tr>\n",
              "      <th>458155</th>\n",
              "      <td>1133765350724706432</td>\n",
              "      <td>معلم هدول كتب صح حلوين بس بدهم مخمخة وقعدة رو...</td>\n",
              "      <td>SY</td>\n",
              "    </tr>\n",
              "    <tr>\n",
              "      <th>458156</th>\n",
              "      <td>1135212835951337600</td>\n",
              "      <td>شعبة التجنيد مابتفهم عليهم شي منوب بتحسهم بده...</td>\n",
              "      <td>SY</td>\n",
              "    </tr>\n",
              "    <tr>\n",
              "      <th>458157</th>\n",
              "      <td>1135356023093567616</td>\n",
              "      <td>توصيات لشي محل او صفحة ع الفيس بتعمل كنزات بول...</td>\n",
              "      <td>SY</td>\n",
              "    </tr>\n",
              "    <tr>\n",
              "      <th>458158</th>\n",
              "      <td>1135364500117434368</td>\n",
              "      <td>هو الاغلبية صح هيك بس معقول مايلتقى حدا عندو ...</td>\n",
              "      <td>SY</td>\n",
              "    </tr>\n",
              "    <tr>\n",
              "      <th>458159</th>\n",
              "      <td>1135609174551945216</td>\n",
              "      <td>رايح وصل أهلي ع المول وبكرا العيد دعولي بالثبا...</td>\n",
              "      <td>SY</td>\n",
              "    </tr>\n",
              "    <tr>\n",
              "      <th>458160</th>\n",
              "      <td>1136334465276551168</td>\n",
              "      <td>الصبح مافي شمس بس الجو رطوبة شوي</td>\n",
              "      <td>SY</td>\n",
              "    </tr>\n",
              "    <tr>\n",
              "      <th>458161</th>\n",
              "      <td>1136334563029016576</td>\n",
              "      <td>هاد مشى مخص اخيرا لمشي والبسكليت</td>\n",
              "      <td>SY</td>\n",
              "    </tr>\n",
              "    <tr>\n",
              "      <th>458162</th>\n",
              "      <td>1137754567188393984</td>\n",
              "      <td>ورجعنا ع النادي في محاولة لخسارة دهون طبخات رم...</td>\n",
              "      <td>SY</td>\n",
              "    </tr>\n",
              "    <tr>\n",
              "      <th>458163</th>\n",
              "      <td>1137762721867403264</td>\n",
              "      <td>هلا منيح اول خطوة انو رجعنا لنادي الخطوة التا...</td>\n",
              "      <td>SY</td>\n",
              "    </tr>\n",
              "    <tr>\n",
              "      <th>458164</th>\n",
              "      <td>1138802046709260416</td>\n",
              "      <td>بهيك حالات بيكون الحق ع الشعب وعيو ولاسف مافي...</td>\n",
              "      <td>SY</td>\n",
              "    </tr>\n",
              "    <tr>\n",
              "      <th>458165</th>\n",
              "      <td>1139114372586979200</td>\n",
              "      <td>انصحه يبطل شحادة رتويت</td>\n",
              "      <td>SY</td>\n",
              "    </tr>\n",
              "    <tr>\n",
              "      <th>458166</th>\n",
              "      <td>1139844159412592640</td>\n",
              "      <td>هلا مابعرف بالضبط يلي فهمتو انو اخدتو تصريح ل...</td>\n",
              "      <td>SY</td>\n",
              "    </tr>\n",
              "    <tr>\n",
              "      <th>458167</th>\n",
              "      <td>1139844564347478016</td>\n",
              "      <td>واله ماشفت منو شي ولابعرف شي بس كالعادة الموا...</td>\n",
              "      <td>SY</td>\n",
              "    </tr>\n",
              "    <tr>\n",
              "      <th>458168</th>\n",
              "      <td>1139940096415870976</td>\n",
              "      <td>اله يرضى عليك من امي او ابي بتنسيني اي تعب وا...</td>\n",
              "      <td>SY</td>\n",
              "    </tr>\n",
              "    <tr>\n",
              "      <th>458169</th>\n",
              "      <td>1140031403473670016</td>\n",
              "      <td>لي سعد الصغير وين راحت فيفي عبدو</td>\n",
              "      <td>SY</td>\n",
              "    </tr>\n",
              "    <tr>\n",
              "      <th>458170</th>\n",
              "      <td>1140032653816664064</td>\n",
              "      <td>عملوهن كباب وعملي عزيمه لأسد خليه ياكل منهم ب...</td>\n",
              "      <td>SY</td>\n",
              "    </tr>\n",
              "    <tr>\n",
              "      <th>458171</th>\n",
              "      <td>1140270102492958848</td>\n",
              "      <td>كل سوريا هيك شو المضيق نيئه غيرشكل عن الخليقه</td>\n",
              "      <td>SY</td>\n",
              "    </tr>\n",
              "    <tr>\n",
              "      <th>458172</th>\n",
              "      <td>1140374284906499968</td>\n",
              "      <td>اوف سبع سنين واله اني عتيق</td>\n",
              "      <td>SY</td>\n",
              "    </tr>\n",
              "    <tr>\n",
              "      <th>458173</th>\n",
              "      <td>1140452373879566336</td>\n",
              "      <td>ياحبيبي هاد احد حاقد والعتب إلى مشغلينو بالقن...</td>\n",
              "      <td>SY</td>\n",
              "    </tr>\n",
              "    <tr>\n",
              "      <th>458174</th>\n",
              "      <td>1140532748706340864</td>\n",
              "      <td>بلاها هاي الامارحم ربي</td>\n",
              "      <td>SY</td>\n",
              "    </tr>\n",
              "    <tr>\n",
              "      <th>458175</th>\n",
              "      <td>1140761512321146752</td>\n",
              "      <td>والإخوان مافهمو الدرس وأعلنوا حل الحزب وريحونا</td>\n",
              "      <td>SY</td>\n",
              "    </tr>\n",
              "    <tr>\n",
              "      <th>458176</th>\n",
              "      <td>1141041466225111040</td>\n",
              "      <td>هاد شوفي براسو ياترى في مخ متل المخلوقات</td>\n",
              "      <td>SY</td>\n",
              "    </tr>\n",
              "    <tr>\n",
              "      <th>458177</th>\n",
              "      <td>1141045028044849152</td>\n",
              "      <td>شوكاي قوات الإمارات لهون</td>\n",
              "      <td>SY</td>\n",
              "    </tr>\n",
              "    <tr>\n",
              "      <th>458178</th>\n",
              "      <td>1141045656846557184</td>\n",
              "      <td>واله تاني يوم بصير إيراني</td>\n",
              "      <td>SY</td>\n",
              "    </tr>\n",
              "    <tr>\n",
              "      <th>458179</th>\n",
              "      <td>1141101805679599616</td>\n",
              "      <td>قادمه بس مشغولين بقتل السورين بالأيام بس يخلص...</td>\n",
              "      <td>SY</td>\n",
              "    </tr>\n",
              "    <tr>\n",
              "      <th>458180</th>\n",
              "      <td>1141391126609444864</td>\n",
              "      <td>من يملك ماقلت بيستاهل القتل بالجزمه لأنه سكت</td>\n",
              "      <td>SY</td>\n",
              "    </tr>\n",
              "    <tr>\n",
              "      <th>458181</th>\n",
              "      <td>1141419107205734400</td>\n",
              "      <td>هاي العالم بلامخ صارو موتين نص المشايخ</td>\n",
              "      <td>SY</td>\n",
              "    </tr>\n",
              "    <tr>\n",
              "      <th>458182</th>\n",
              "      <td>1141560838375055360</td>\n",
              "      <td>العاده بتسلمن اياها أمريكا ليقوموباستنساخ متل...</td>\n",
              "      <td>SY</td>\n",
              "    </tr>\n",
              "    <tr>\n",
              "      <th>458183</th>\n",
              "      <td>1141567034196660224</td>\n",
              "      <td>هلأ بيهجمو نفسي واحد يخبرني عن جرائم الإخوان ...</td>\n",
              "      <td>SY</td>\n",
              "    </tr>\n",
              "    <tr>\n",
              "      <th>458184</th>\n",
              "      <td>1141568955406069760</td>\n",
              "      <td>بتجي لعندك ماتروح ولاتجي</td>\n",
              "      <td>SY</td>\n",
              "    </tr>\n",
              "    <tr>\n",
              "      <th>458185</th>\n",
              "      <td>1141816797483679616</td>\n",
              "      <td>هي اكيد مو وسخ الدنيا ومهمة بالحياة بس هي مو ...</td>\n",
              "      <td>SY</td>\n",
              "    </tr>\n",
              "    <tr>\n",
              "      <th>458186</th>\n",
              "      <td>1141831729323421568</td>\n",
              "      <td>تروح عند خالتها وتقعداسبوع</td>\n",
              "      <td>SY</td>\n",
              "    </tr>\n",
              "    <tr>\n",
              "      <th>458187</th>\n",
              "      <td>1141912016564772864</td>\n",
              "      <td>ه واله ردأمريكي خطير على إيران</td>\n",
              "      <td>SY</td>\n",
              "    </tr>\n",
              "    <tr>\n",
              "      <th>458188</th>\n",
              "      <td>1141912322287513600</td>\n",
              "      <td>وليش مالا مين لمبادله</td>\n",
              "      <td>SY</td>\n",
              "    </tr>\n",
              "    <tr>\n",
              "      <th>458189</th>\n",
              "      <td>1141933230553292800</td>\n",
              "      <td>طائراتها هي حره تروح مطرح مابدها</td>\n",
              "      <td>SY</td>\n",
              "    </tr>\n",
              "    <tr>\n",
              "      <th>458190</th>\n",
              "      <td>1141934866201751552</td>\n",
              "      <td>ه مفكر النظام السوري بيسمع الكلام حبيبي هاد ب...</td>\n",
              "      <td>SY</td>\n",
              "    </tr>\n",
              "    <tr>\n",
              "      <th>458191</th>\n",
              "      <td>1142058777295892352</td>\n",
              "      <td>طارق كلهن مناح مابغضر فضل حدى على حدى</td>\n",
              "      <td>SY</td>\n",
              "    </tr>\n",
              "    <tr>\n",
              "      <th>458192</th>\n",
              "      <td>1142159253211439232</td>\n",
              "      <td>يالطيف على أساس المسد سات شغله نادرا ماتوجد</td>\n",
              "      <td>SY</td>\n",
              "    </tr>\n",
              "    <tr>\n",
              "      <th>458193</th>\n",
              "      <td>1142461257313849216</td>\n",
              "      <td>ماعمري شفت هالإعلامي غير بالأيام متى صار إغلا...</td>\n",
              "      <td>SY</td>\n",
              "    </tr>\n",
              "    <tr>\n",
              "      <th>458194</th>\n",
              "      <td>1142485949198274560</td>\n",
              "      <td>سألت من أكترمن عشرة أيام سؤال\\nحسين مرتضى كان ...</td>\n",
              "      <td>SY</td>\n",
              "    </tr>\n",
              "    <tr>\n",
              "      <th>458195</th>\n",
              "      <td>1142491961250779136</td>\n",
              "      <td>وليش لسه بتعتقدبالأم المتحده\\nماشفت كيف بتقدم...</td>\n",
              "      <td>SY</td>\n",
              "    </tr>\n",
              "    <tr>\n",
              "      <th>458196</th>\n",
              "      <td>1142623397219831808</td>\n",
              "      <td>يجوز ولكن قريت عم تقول هتاف المصرين لسيسي</td>\n",
              "      <td>SY</td>\n",
              "    </tr>\n",
              "  </tbody>\n",
              "</table>\n",
              "</div>\n",
              "      <button class=\"colab-df-convert\" onclick=\"convertToInteractive('df-12da6783-7782-46d4-ba96-0e1e557ab033')\"\n",
              "              title=\"Convert this dataframe to an interactive table.\"\n",
              "              style=\"display:none;\">\n",
              "        \n",
              "  <svg xmlns=\"http://www.w3.org/2000/svg\" height=\"24px\"viewBox=\"0 0 24 24\"\n",
              "       width=\"24px\">\n",
              "    <path d=\"M0 0h24v24H0V0z\" fill=\"none\"/>\n",
              "    <path d=\"M18.56 5.44l.94 2.06.94-2.06 2.06-.94-2.06-.94-.94-2.06-.94 2.06-2.06.94zm-11 1L8.5 8.5l.94-2.06 2.06-.94-2.06-.94L8.5 2.5l-.94 2.06-2.06.94zm10 10l.94 2.06.94-2.06 2.06-.94-2.06-.94-.94-2.06-.94 2.06-2.06.94z\"/><path d=\"M17.41 7.96l-1.37-1.37c-.4-.4-.92-.59-1.43-.59-.52 0-1.04.2-1.43.59L10.3 9.45l-7.72 7.72c-.78.78-.78 2.05 0 2.83L4 21.41c.39.39.9.59 1.41.59.51 0 1.02-.2 1.41-.59l7.78-7.78 2.81-2.81c.8-.78.8-2.07 0-2.86zM5.41 20L4 18.59l7.72-7.72 1.47 1.35L5.41 20z\"/>\n",
              "  </svg>\n",
              "      </button>\n",
              "      \n",
              "  <style>\n",
              "    .colab-df-container {\n",
              "      display:flex;\n",
              "      flex-wrap:wrap;\n",
              "      gap: 12px;\n",
              "    }\n",
              "\n",
              "    .colab-df-convert {\n",
              "      background-color: #E8F0FE;\n",
              "      border: none;\n",
              "      border-radius: 50%;\n",
              "      cursor: pointer;\n",
              "      display: none;\n",
              "      fill: #1967D2;\n",
              "      height: 32px;\n",
              "      padding: 0 0 0 0;\n",
              "      width: 32px;\n",
              "    }\n",
              "\n",
              "    .colab-df-convert:hover {\n",
              "      background-color: #E2EBFA;\n",
              "      box-shadow: 0px 1px 2px rgba(60, 64, 67, 0.3), 0px 1px 3px 1px rgba(60, 64, 67, 0.15);\n",
              "      fill: #174EA6;\n",
              "    }\n",
              "\n",
              "    [theme=dark] .colab-df-convert {\n",
              "      background-color: #3B4455;\n",
              "      fill: #D2E3FC;\n",
              "    }\n",
              "\n",
              "    [theme=dark] .colab-df-convert:hover {\n",
              "      background-color: #434B5C;\n",
              "      box-shadow: 0px 1px 3px 1px rgba(0, 0, 0, 0.15);\n",
              "      filter: drop-shadow(0px 1px 2px rgba(0, 0, 0, 0.3));\n",
              "      fill: #FFFFFF;\n",
              "    }\n",
              "  </style>\n",
              "\n",
              "      <script>\n",
              "        const buttonEl =\n",
              "          document.querySelector('#df-12da6783-7782-46d4-ba96-0e1e557ab033 button.colab-df-convert');\n",
              "        buttonEl.style.display =\n",
              "          google.colab.kernel.accessAllowed ? 'block' : 'none';\n",
              "\n",
              "        async function convertToInteractive(key) {\n",
              "          const element = document.querySelector('#df-12da6783-7782-46d4-ba96-0e1e557ab033');\n",
              "          const dataTable =\n",
              "            await google.colab.kernel.invokeFunction('convertToInteractive',\n",
              "                                                     [key], {});\n",
              "          if (!dataTable) return;\n",
              "\n",
              "          const docLinkHtml = 'Like what you see? Visit the ' +\n",
              "            '<a target=\"_blank\" href=https://colab.research.google.com/notebooks/data_table.ipynb>data table notebook</a>'\n",
              "            + ' to learn more about interactive tables.';\n",
              "          element.innerHTML = '';\n",
              "          dataTable['output_type'] = 'display_data';\n",
              "          await google.colab.output.renderOutput(dataTable, element);\n",
              "          const docLink = document.createElement('div');\n",
              "          docLink.innerHTML = docLinkHtml;\n",
              "          element.appendChild(docLink);\n",
              "        }\n",
              "      </script>\n",
              "    </div>\n",
              "  </div>\n",
              "  "
            ]
          },
          "metadata": {},
          "execution_count": 21
        }
      ],
      "source": [
        "df.tail(50)"
      ]
    },
    {
      "cell_type": "code",
      "execution_count": 22,
      "id": "703d6c9a",
      "metadata": {
        "id": "703d6c9a"
      },
      "outputs": [],
      "source": [
        "from sklearn.feature_extraction.text import CountVectorizer\n",
        "from collections import  Counter"
      ]
    },
    {
      "cell_type": "code",
      "execution_count": 23,
      "id": "1221a28d",
      "metadata": {
        "colab": {
          "base_uri": "https://localhost:8080/",
          "height": 206
        },
        "id": "1221a28d",
        "outputId": "78a72abe-a837-449c-e509-ed3158f750c7"
      },
      "outputs": [
        {
          "output_type": "execute_result",
          "data": {
            "text/plain": [
              "                    id                                               text  \\\n",
              "0  1165317340441063424          عشانك سويلم مسحته لكن الكلام الي قاله قوي   \n",
              "1  1165334256937328640   تليفونك سماعة الايفون الايباد اذا ضيعته ب أي ...   \n",
              "2  1165334824716034048   اذا فونك ضاع تكون حاط نفس ايميل الايباد و اطل...   \n",
              "3  1165335027074207488                              بيطلع وين اخر ظهور له   \n",
              "4  1165348372649259008  شنو هالنادي الي كل لعيبته من المنتخب و يطلعلك ...   \n",
              "\n",
              "  dialect  \n",
              "0      AE  \n",
              "1      AE  \n",
              "2      AE  \n",
              "3      AE  \n",
              "4      AE  "
            ],
            "text/html": [
              "\n",
              "  <div id=\"df-d0b80775-4495-4a69-b555-a0c87f8a01f3\">\n",
              "    <div class=\"colab-df-container\">\n",
              "      <div>\n",
              "<style scoped>\n",
              "    .dataframe tbody tr th:only-of-type {\n",
              "        vertical-align: middle;\n",
              "    }\n",
              "\n",
              "    .dataframe tbody tr th {\n",
              "        vertical-align: top;\n",
              "    }\n",
              "\n",
              "    .dataframe thead th {\n",
              "        text-align: right;\n",
              "    }\n",
              "</style>\n",
              "<table border=\"1\" class=\"dataframe\">\n",
              "  <thead>\n",
              "    <tr style=\"text-align: right;\">\n",
              "      <th></th>\n",
              "      <th>id</th>\n",
              "      <th>text</th>\n",
              "      <th>dialect</th>\n",
              "    </tr>\n",
              "  </thead>\n",
              "  <tbody>\n",
              "    <tr>\n",
              "      <th>0</th>\n",
              "      <td>1165317340441063424</td>\n",
              "      <td>عشانك سويلم مسحته لكن الكلام الي قاله قوي</td>\n",
              "      <td>AE</td>\n",
              "    </tr>\n",
              "    <tr>\n",
              "      <th>1</th>\n",
              "      <td>1165334256937328640</td>\n",
              "      <td>تليفونك سماعة الايفون الايباد اذا ضيعته ب أي ...</td>\n",
              "      <td>AE</td>\n",
              "    </tr>\n",
              "    <tr>\n",
              "      <th>2</th>\n",
              "      <td>1165334824716034048</td>\n",
              "      <td>اذا فونك ضاع تكون حاط نفس ايميل الايباد و اطل...</td>\n",
              "      <td>AE</td>\n",
              "    </tr>\n",
              "    <tr>\n",
              "      <th>3</th>\n",
              "      <td>1165335027074207488</td>\n",
              "      <td>بيطلع وين اخر ظهور له</td>\n",
              "      <td>AE</td>\n",
              "    </tr>\n",
              "    <tr>\n",
              "      <th>4</th>\n",
              "      <td>1165348372649259008</td>\n",
              "      <td>شنو هالنادي الي كل لعيبته من المنتخب و يطلعلك ...</td>\n",
              "      <td>AE</td>\n",
              "    </tr>\n",
              "  </tbody>\n",
              "</table>\n",
              "</div>\n",
              "      <button class=\"colab-df-convert\" onclick=\"convertToInteractive('df-d0b80775-4495-4a69-b555-a0c87f8a01f3')\"\n",
              "              title=\"Convert this dataframe to an interactive table.\"\n",
              "              style=\"display:none;\">\n",
              "        \n",
              "  <svg xmlns=\"http://www.w3.org/2000/svg\" height=\"24px\"viewBox=\"0 0 24 24\"\n",
              "       width=\"24px\">\n",
              "    <path d=\"M0 0h24v24H0V0z\" fill=\"none\"/>\n",
              "    <path d=\"M18.56 5.44l.94 2.06.94-2.06 2.06-.94-2.06-.94-.94-2.06-.94 2.06-2.06.94zm-11 1L8.5 8.5l.94-2.06 2.06-.94-2.06-.94L8.5 2.5l-.94 2.06-2.06.94zm10 10l.94 2.06.94-2.06 2.06-.94-2.06-.94-.94-2.06-.94 2.06-2.06.94z\"/><path d=\"M17.41 7.96l-1.37-1.37c-.4-.4-.92-.59-1.43-.59-.52 0-1.04.2-1.43.59L10.3 9.45l-7.72 7.72c-.78.78-.78 2.05 0 2.83L4 21.41c.39.39.9.59 1.41.59.51 0 1.02-.2 1.41-.59l7.78-7.78 2.81-2.81c.8-.78.8-2.07 0-2.86zM5.41 20L4 18.59l7.72-7.72 1.47 1.35L5.41 20z\"/>\n",
              "  </svg>\n",
              "      </button>\n",
              "      \n",
              "  <style>\n",
              "    .colab-df-container {\n",
              "      display:flex;\n",
              "      flex-wrap:wrap;\n",
              "      gap: 12px;\n",
              "    }\n",
              "\n",
              "    .colab-df-convert {\n",
              "      background-color: #E8F0FE;\n",
              "      border: none;\n",
              "      border-radius: 50%;\n",
              "      cursor: pointer;\n",
              "      display: none;\n",
              "      fill: #1967D2;\n",
              "      height: 32px;\n",
              "      padding: 0 0 0 0;\n",
              "      width: 32px;\n",
              "    }\n",
              "\n",
              "    .colab-df-convert:hover {\n",
              "      background-color: #E2EBFA;\n",
              "      box-shadow: 0px 1px 2px rgba(60, 64, 67, 0.3), 0px 1px 3px 1px rgba(60, 64, 67, 0.15);\n",
              "      fill: #174EA6;\n",
              "    }\n",
              "\n",
              "    [theme=dark] .colab-df-convert {\n",
              "      background-color: #3B4455;\n",
              "      fill: #D2E3FC;\n",
              "    }\n",
              "\n",
              "    [theme=dark] .colab-df-convert:hover {\n",
              "      background-color: #434B5C;\n",
              "      box-shadow: 0px 1px 3px 1px rgba(0, 0, 0, 0.15);\n",
              "      filter: drop-shadow(0px 1px 2px rgba(0, 0, 0, 0.3));\n",
              "      fill: #FFFFFF;\n",
              "    }\n",
              "  </style>\n",
              "\n",
              "      <script>\n",
              "        const buttonEl =\n",
              "          document.querySelector('#df-d0b80775-4495-4a69-b555-a0c87f8a01f3 button.colab-df-convert');\n",
              "        buttonEl.style.display =\n",
              "          google.colab.kernel.accessAllowed ? 'block' : 'none';\n",
              "\n",
              "        async function convertToInteractive(key) {\n",
              "          const element = document.querySelector('#df-d0b80775-4495-4a69-b555-a0c87f8a01f3');\n",
              "          const dataTable =\n",
              "            await google.colab.kernel.invokeFunction('convertToInteractive',\n",
              "                                                     [key], {});\n",
              "          if (!dataTable) return;\n",
              "\n",
              "          const docLinkHtml = 'Like what you see? Visit the ' +\n",
              "            '<a target=\"_blank\" href=https://colab.research.google.com/notebooks/data_table.ipynb>data table notebook</a>'\n",
              "            + ' to learn more about interactive tables.';\n",
              "          element.innerHTML = '';\n",
              "          dataTable['output_type'] = 'display_data';\n",
              "          await google.colab.output.renderOutput(dataTable, element);\n",
              "          const docLink = document.createElement('div');\n",
              "          docLink.innerHTML = docLinkHtml;\n",
              "          element.appendChild(docLink);\n",
              "        }\n",
              "      </script>\n",
              "    </div>\n",
              "  </div>\n",
              "  "
            ]
          },
          "metadata": {},
          "execution_count": 23
        }
      ],
      "source": [
        "df.head()"
      ]
    },
    {
      "cell_type": "code",
      "execution_count": 24,
      "id": "488525f9",
      "metadata": {
        "id": "488525f9"
      },
      "outputs": [],
      "source": [
        "# def get_top_tweet_bigrams(corpus, n=None):\n",
        "#     vec = CountVectorizer(ngram_range=(2, 2)).fit(corpus)\n",
        "#     bag_of_words = vec.transform(corpus)\n",
        "#     sum_words = bag_of_words.sum(axis=0) \n",
        "#     words_freq = [(word, sum_words[0, idx]) for word, idx in vec.vocabulary_.items()]\n",
        "#     words_freq =sorted(words_freq, key = lambda x: x[1], reverse=True)\n",
        "#     return words_freq[:n]"
      ]
    },
    {
      "cell_type": "code",
      "execution_count": 25,
      "id": "5d24c6b9",
      "metadata": {
        "id": "5d24c6b9"
      },
      "outputs": [],
      "source": [
        "# # # plt.figure(figsize=(10,5))\n",
        "# top_tweet_bigrams=get_top_tweet_bigrams(df[df['dialect']=='SA']['tweets'])[:20]\n",
        "# # # x,y=map(list,zip(*top_tweet_bigrams))\n",
        "# # # sns.barplot(x=y,y=x)\n",
        "# top_tweet_bigrams"
      ]
    },
    {
      "cell_type": "code",
      "execution_count": 26,
      "id": "73fd462b",
      "metadata": {
        "id": "73fd462b"
      },
      "outputs": [],
      "source": [
        "# top_tweet_bigrams"
      ]
    },
    {
      "cell_type": "markdown",
      "id": "cdf5a5fd",
      "metadata": {
        "id": "cdf5a5fd"
      },
      "source": [
        "## tokenization"
      ]
    },
    {
      "cell_type": "code",
      "execution_count": 27,
      "id": "e3234ca8",
      "metadata": {
        "id": "e3234ca8"
      },
      "outputs": [],
      "source": [
        "# def tokenize(text):\n",
        "#     tokens = nltk.word_tokenize(text)\n",
        "#     return tokens"
      ]
    },
    {
      "cell_type": "code",
      "execution_count": 28,
      "id": "cad15d10",
      "metadata": {
        "id": "cad15d10"
      },
      "outputs": [],
      "source": [
        "# df['tweets'] = df['tweets'].apply(lambda x:tokenize(x))"
      ]
    },
    {
      "cell_type": "code",
      "execution_count": 29,
      "id": "9d3d0091",
      "metadata": {
        "id": "9d3d0091"
      },
      "outputs": [],
      "source": [
        "# df.head(20)"
      ]
    },
    {
      "cell_type": "markdown",
      "id": "23d6df48",
      "metadata": {
        "id": "23d6df48"
      },
      "source": [
        "## data splitting"
      ]
    },
    {
      "cell_type": "code",
      "execution_count": 30,
      "id": "6c3faf98",
      "metadata": {
        "id": "6c3faf98"
      },
      "outputs": [],
      "source": [
        "df['dialect'] = df['dialect'].map({'IQ':0, 'LY':1, 'QA':2, 'PL':3, 'SY':4, 'TN':5, 'JO':6 , 'MA':7, 'SA':8, 'YE':9, 'DZ':10, 'EG':11, 'LB':12, 'KW':13, 'OM':14, 'SD':15, 'AE':16, 'BH':17})"
      ]
    },
    {
      "cell_type": "code",
      "execution_count": 31,
      "id": "54351411",
      "metadata": {
        "colab": {
          "base_uri": "https://localhost:8080/"
        },
        "id": "54351411",
        "outputId": "36f6e61b-572e-41b9-b43f-1d70f87894ce"
      },
      "outputs": [
        {
          "output_type": "execute_result",
          "data": {
            "text/plain": [
              "11    57636\n",
              "3     43742\n",
              "13    42109\n",
              "1     36499\n",
              "2     31069\n",
              "6     27921\n",
              "12    27617\n",
              "8     26832\n",
              "16    26296\n",
              "17    26292\n",
              "14    19116\n",
              "4     16242\n",
              "10    16183\n",
              "0     15497\n",
              "15    14434\n",
              "7     11539\n",
              "9      9927\n",
              "5      9246\n",
              "Name: dialect, dtype: int64"
            ]
          },
          "metadata": {},
          "execution_count": 31
        }
      ],
      "source": [
        "df['dialect'].value_counts()"
      ]
    },
    {
      "cell_type": "code",
      "execution_count": 45,
      "id": "611c0352",
      "metadata": {
        "id": "611c0352"
      },
      "outputs": [],
      "source": [
        "x = df['text']\n",
        "y = df['dialect']"
      ]
    },
    {
      "cell_type": "code",
      "execution_count": 46,
      "id": "11c90bd0",
      "metadata": {
        "colab": {
          "base_uri": "https://localhost:8080/"
        },
        "id": "11c90bd0",
        "outputId": "4f469bed-9fcb-4463-82ee-b9893ea6dc4f"
      },
      "outputs": [
        {
          "output_type": "stream",
          "name": "stdout",
          "text": [
            "(412377,)\n",
            "(45820,)\n",
            "(412377,)\n",
            "(45820,)\n"
          ]
        }
      ],
      "source": [
        "x_train,x_val,y_train,y_val=train_test_split(x, y, test_size=0.1, random_state=42)\n",
        "print(x_train.shape)\n",
        "print(x_val.shape)\n",
        "print(y_train.shape)\n",
        "print(y_val.shape)"
      ]
    },
    {
      "cell_type": "code",
      "execution_count": 47,
      "id": "ef2276f8",
      "metadata": {
        "colab": {
          "base_uri": "https://localhost:8080/"
        },
        "id": "ef2276f8",
        "outputId": "0c62fe3d-7c64-4031-b7e6-3bbecadd2017"
      },
      "outputs": [
        {
          "output_type": "execute_result",
          "data": {
            "text/plain": [
              "217576    11\n",
              "344491    14\n",
              "380119     8\n",
              "133458     6\n",
              "98921     16\n",
              "          ..\n",
              "356845     2\n",
              "369306     2\n",
              "301958     4\n",
              "163932    13\n",
              "51852     17\n",
              "Name: dialect, Length: 45820, dtype: int64"
            ]
          },
          "metadata": {},
          "execution_count": 47
        }
      ],
      "source": [
        "y_val"
      ]
    },
    {
      "cell_type": "markdown",
      "id": "fd98ce2e",
      "metadata": {
        "id": "fd98ce2e"
      },
      "source": [
        "## implementing word2vec"
      ]
    },
    {
      "cell_type": "code",
      "execution_count": 48,
      "id": "6193cbf4",
      "metadata": {
        "colab": {
          "base_uri": "https://localhost:8080/"
        },
        "id": "6193cbf4",
        "outputId": "5a1ad17b-526f-4c5b-e3bc-1ad60f3ffb53"
      },
      "outputs": [
        {
          "output_type": "execute_result",
          "data": {
            "text/plain": [
              "412377"
            ]
          },
          "metadata": {},
          "execution_count": 48
        }
      ],
      "source": [
        "documents = [text.split() for text in x_train] \n",
        "len(documents)"
      ]
    },
    {
      "cell_type": "code",
      "execution_count": 50,
      "id": "bef55839",
      "metadata": {
        "id": "bef55839"
      },
      "outputs": [],
      "source": [
        "w2v_model = Word2Vec(size=300, window=5, min_count=1, workers=3)"
      ]
    },
    {
      "cell_type": "code",
      "execution_count": 51,
      "id": "b91f52ea",
      "metadata": {
        "id": "b91f52ea"
      },
      "outputs": [],
      "source": [
        "w2v_model.build_vocab(documents)"
      ]
    },
    {
      "cell_type": "code",
      "execution_count": 56,
      "id": "40335a23",
      "metadata": {
        "colab": {
          "base_uri": "https://localhost:8080/"
        },
        "id": "40335a23",
        "outputId": "5f100293-375a-452b-ba9b-1450360df740"
      },
      "outputs": [
        {
          "output_type": "stream",
          "name": "stdout",
          "text": [
            "Vocab size 421594\n"
          ]
        }
      ],
      "source": [
        "vocab_len = len(w2v_model.wv.vocab)\n",
        "print(\"Vocab size\", vocab_len)"
      ]
    },
    {
      "cell_type": "code",
      "execution_count": 57,
      "id": "29e46dfa",
      "metadata": {
        "colab": {
          "base_uri": "https://localhost:8080/"
        },
        "id": "29e46dfa",
        "outputId": "463f8b8e-e45f-4724-e3ad-67432458cbc3"
      },
      "outputs": [
        {
          "output_type": "execute_result",
          "data": {
            "text/plain": [
              "(49863101, 53540360)"
            ]
          },
          "metadata": {},
          "execution_count": 57
        }
      ],
      "source": [
        "w2v_model.train(documents,total_examples=len(documents),epochs=10)"
      ]
    },
    {
      "cell_type": "code",
      "execution_count": 58,
      "id": "e151f1a0",
      "metadata": {
        "colab": {
          "base_uri": "https://localhost:8080/"
        },
        "id": "e151f1a0",
        "outputId": "9e5863ee-aac8-4d7a-c72a-727fbe7326ea"
      },
      "outputs": [
        {
          "output_type": "execute_result",
          "data": {
            "text/plain": [
              "[('كبير', 0.6836452484130859),\n",
              " ('طفل', 0.6585379838943481),\n",
              " ('شاب', 0.647883415222168),\n",
              " ('مخلص', 0.6369431614875793),\n",
              " ('ميت', 0.6104898452758789),\n",
              " ('فقير', 0.5948500037193298),\n",
              " ('مشهور', 0.5898910760879517),\n",
              " ('ضايع', 0.5834872722625732),\n",
              " ('صديق', 0.579833447933197),\n",
              " ('وأقنعني', 0.5782203078269958)]"
            ]
          },
          "metadata": {},
          "execution_count": 58
        }
      ],
      "source": [
        "w2v_model.wv.similar_by_word('صغير')"
      ]
    },
    {
      "cell_type": "code",
      "execution_count": 59,
      "id": "dcbc7a0f",
      "metadata": {
        "id": "dcbc7a0f"
      },
      "outputs": [],
      "source": [
        "# w2v_model.wv.vectors[0]"
      ]
    },
    {
      "cell_type": "code",
      "execution_count": 60,
      "id": "14f877d3",
      "metadata": {
        "colab": {
          "base_uri": "https://localhost:8080/"
        },
        "id": "14f877d3",
        "outputId": "6df0c540-4ba3-4867-bfcd-7019afb01dce"
      },
      "outputs": [
        {
          "output_type": "execute_result",
          "data": {
            "text/plain": [
              "0.37050065"
            ]
          },
          "metadata": {},
          "execution_count": 60
        }
      ],
      "source": [
        "w2v_model.wv.n_similarity(['جيد'],['حلو'])"
      ]
    },
    {
      "cell_type": "code",
      "execution_count": 61,
      "id": "34a6e67d",
      "metadata": {
        "colab": {
          "base_uri": "https://localhost:8080/"
        },
        "id": "34a6e67d",
        "outputId": "c691ccd4-1ca9-43b8-ffa3-f4456807b03e"
      },
      "outputs": [
        {
          "output_type": "stream",
          "name": "stdout",
          "text": [
            "total words: 421709\n"
          ]
        }
      ],
      "source": [
        "tokenizer = Tokenizer()\n",
        "tokenizer.fit_on_texts(x_train)\n",
        "\n",
        "word_vocabs = list(tokenizer.word_index.keys()) \n",
        "vocab_size = len(tokenizer.word_index) + 1\n",
        "print('total words:',vocab_size)"
      ]
    },
    {
      "cell_type": "code",
      "execution_count": 62,
      "id": "f26619ad",
      "metadata": {
        "id": "f26619ad"
      },
      "outputs": [],
      "source": [
        "# # Defining a function which takes text input and returns one vector for each sentence\n",
        "# def text2vec(text):\n",
        "#     word_vec = tokenizer.texts_to_sequences(text)\n",
        "#     w2v_Data=[]\n",
        "#     for sent in text:\n",
        "#         Sentence = np.zeros(300)\n",
        "#         for word in sent.split():\n",
        "#             if word in w2v_model.wv.key_to_index.keys():    \n",
        "#                 Sentence=Sentence+w2v_model.wv[word]\n",
        "#         # Appending the sentence to the dataframe\n",
        "#         w2v_Data.append(Sentence)\n",
        "#     return w2v_Data\n",
        "        \n",
        "    \n",
        "    \n",
        " "
      ]
    },
    {
      "cell_type": "code",
      "execution_count": 63,
      "id": "5b323021",
      "metadata": {
        "id": "5b323021"
      },
      "outputs": [],
      "source": [
        "# x_train = text2vec(x_train)\n",
        "# x_test = text2vec(x_val)\n",
        "# len(x_train)"
      ]
    },
    {
      "cell_type": "code",
      "execution_count": 64,
      "id": "12ce677d",
      "metadata": {
        "id": "12ce677d"
      },
      "outputs": [],
      "source": [
        "# f = text2vec('هلا')\n"
      ]
    },
    {
      "cell_type": "code",
      "execution_count": 65,
      "id": "ff6c4727",
      "metadata": {
        "id": "ff6c4727"
      },
      "outputs": [],
      "source": [
        "#tokenizer.word_index.keys() ##vocabs key is vocab value is freq"
      ]
    },
    {
      "cell_type": "code",
      "execution_count": 66,
      "id": "53c7a6a5",
      "metadata": {
        "id": "53c7a6a5"
      },
      "outputs": [],
      "source": [
        "# sequences[:2]"
      ]
    },
    {
      "cell_type": "code",
      "execution_count": 67,
      "id": "ced8d33b",
      "metadata": {
        "id": "ced8d33b"
      },
      "outputs": [],
      "source": [
        "# from sklearn.feature_extraction.text import CountVectorizer\n",
        "# vectorizer = CountVectorizer()\n",
        "# #  \n",
        "# # Converting the text to numeric data\n",
        "# X = vectorizer.fit_transform(x_train)"
      ]
    },
    {
      "cell_type": "code",
      "execution_count": 68,
      "id": "05722f08",
      "metadata": {
        "id": "05722f08"
      },
      "outputs": [],
      "source": [
        "# type(vectorizer.get_feature_names()[0])"
      ]
    },
    {
      "cell_type": "code",
      "execution_count": 69,
      "id": "53d237a9",
      "metadata": {
        "id": "53d237a9"
      },
      "outputs": [],
      "source": [
        "# len(vectorizer.get_feature_names())+1"
      ]
    },
    {
      "cell_type": "code",
      "execution_count": 70,
      "id": "7d59b1d4",
      "metadata": {
        "id": "7d59b1d4"
      },
      "outputs": [],
      "source": [
        "# len(list(w2v_model.wv.key_to_index.keys()))"
      ]
    },
    {
      "cell_type": "code",
      "execution_count": 71,
      "id": "e666588f",
      "metadata": {
        "id": "e666588f"
      },
      "outputs": [],
      "source": [
        "# x_train[0].shape"
      ]
    },
    {
      "cell_type": "code",
      "execution_count": 72,
      "id": "ecd585dc",
      "metadata": {
        "id": "ecd585dc"
      },
      "outputs": [],
      "source": [
        "def text2vec(text):\n",
        "    word_vec = tokenizer.texts_to_sequences(text)\n",
        "    text_vec = pad_sequences(word_vec, maxlen=300)\n",
        "    return text_vec\n",
        "    "
      ]
    },
    {
      "cell_type": "code",
      "execution_count": 73,
      "id": "f5f163a6",
      "metadata": {
        "id": "f5f163a6"
      },
      "outputs": [],
      "source": [
        "x_train = text2vec(x_train)\n",
        "x_test = text2vec(x_val)"
      ]
    },
    {
      "cell_type": "code",
      "execution_count": 74,
      "id": "77097a81",
      "metadata": {
        "id": "77097a81"
      },
      "outputs": [],
      "source": [
        "# text2vec(df['tweets'][:5])"
      ]
    },
    {
      "cell_type": "code",
      "execution_count": 75,
      "id": "7cd2c1e4",
      "metadata": {
        "id": "7cd2c1e4"
      },
      "outputs": [],
      "source": [
        "# text = ['لا احب مصر','هذا غلط']\n",
        "# word_vec = tokenizer.texts_to_sequences(text)\n",
        "# W2Vec_Data=[]\n",
        "# for sent in text:\n",
        "#     Sentence = np.zeros(300)\n",
        "#     for word in sent.split():\n",
        "#         if word in w2v_model.wv.key_to_index.keys():    \n",
        "#                 Sentence=Sentence+w2v_model.wv[word]\n",
        "#         # Appending the sentence to the dataframe\n",
        "#     W2Vec_Data.append(Sentence)\n",
        "# W2Vec_Data\n",
        "        \n",
        "    "
      ]
    },
    {
      "cell_type": "code",
      "execution_count": 76,
      "id": "20a482a8",
      "metadata": {
        "colab": {
          "base_uri": "https://localhost:8080/"
        },
        "id": "20a482a8",
        "outputId": "ab542244-bb63-4a4d-c295-d58f7c5ef1ee"
      },
      "outputs": [
        {
          "output_type": "stream",
          "name": "stdout",
          "text": [
            "x_train (412377, 300)\n",
            "y_train (412377,)\n",
            "\n",
            "x_val (45820, 300)\n",
            "y_val (45820,)\n"
          ]
        }
      ],
      "source": [
        "print(\"x_train\", x_train.shape)\n",
        "print(\"y_train\", y_train.shape)\n",
        "print()\n",
        "print(\"x_val\", x_test.shape)\n",
        "print(\"y_val\", y_val.shape)"
      ]
    },
    {
      "cell_type": "code",
      "execution_count": 77,
      "id": "75317ac9",
      "metadata": {
        "colab": {
          "base_uri": "https://localhost:8080/"
        },
        "id": "75317ac9",
        "outputId": "6af24577-9ec9-4158-d97b-18e6c24e4b48"
      },
      "outputs": [
        {
          "output_type": "execute_result",
          "data": {
            "text/plain": [
              "421709"
            ]
          },
          "metadata": {},
          "execution_count": 77
        }
      ],
      "source": [
        "# embedding_matrix = {}\n",
        "# keys = vocab_size\n",
        "# values = word_vocabs\n",
        "# for word, key in zip(values,range(keys)):\n",
        "#     if word in w2v_model.wv.key_to_index.keys():\n",
        "#         embedding_matrix[word] = w2v_model.wv[word]\n",
        "vocab_size"
      ]
    },
    {
      "cell_type": "code",
      "execution_count": 78,
      "id": "03e10fe0",
      "metadata": {
        "colab": {
          "base_uri": "https://localhost:8080/"
        },
        "id": "03e10fe0",
        "outputId": "674d1c44-d68c-4971-e667-3118c6b8044d"
      },
      "outputs": [
        {
          "output_type": "stream",
          "name": "stdout",
          "text": [
            "(421709, 300)\n"
          ]
        }
      ],
      "source": [
        "embedding_matrix = {}\n",
        "embedding_matrix = np.zeros((vocab_size, 300))\n",
        "for word, i in tokenizer.word_index.items():\n",
        "    if word in w2v_model.wv:\n",
        "        embedding_matrix[i] = w2v_model.wv[word]\n",
        "print(embedding_matrix.shape)"
      ]
    },
    {
      "cell_type": "code",
      "execution_count": 79,
      "id": "0cf9ccd3",
      "metadata": {
        "id": "0cf9ccd3"
      },
      "outputs": [],
      "source": [
        "\n",
        "# from sklearn.naive_bayes import GaussianNB, MultinomialNB\n",
        " \n",
        "# # GaussianNB is used in Binomial Classification\n",
        "# # MultinomialNB is used in multi-class classification\n",
        "# #clf = GaussianNB()\n",
        "# clf = MultinomialNB()\n",
        " \n",
        "# # Printing all the parameters of Naive Bayes\n",
        "# print(clf)\n",
        " \n",
        "# NB=clf.fit(x_train,y_train)\n",
        "# prediction=NB.predict(x_test)\n",
        " \n",
        "# # Measuring accuracy on Testing Data\n",
        "# from sklearn import metrics\n",
        "# print(metrics.classification_report(y_val, prediction))\n",
        "# print(metrics.confusion_matrix(y_val, prediction))\n",
        " \n",
        "# # Printing the Overall Accuracy of the model\n",
        "# F1_Score=metrics.f1_score(y_val, prediction, average='weighted')\n",
        "# print('Accuracy of the model on Testing Sample Data:', round(F1_Score,2))\n",
        " \n",
        "# # Importing cross validation function from sklearn\n",
        "# from sklearn.model_selection import cross_val_score\n",
        " \n",
        "# # Running 10-Fold Cross validation on a given algorithm\n",
        "# # Passing full data X and y because the K-fold will split the data and automatically choose train/test\n",
        "\n",
        "\n",
        "\n",
        "\n",
        "# # Accuracy_Values=cross_val_score(NB, X , y, cv=5, scoring='f1_weighted')\n",
        "# # print('\\nAccuracy values for 5-fold Cross Validation:\\n',Accuracy_Values)\n",
        "# # print('\\nFinal Average Accuracy of the model:', round(Accuracy_Values.mean(),2))"
      ]
    },
    {
      "cell_type": "code",
      "execution_count": 80,
      "id": "127834f7",
      "metadata": {
        "id": "127834f7"
      },
      "outputs": [],
      "source": [
        "\n",
        "# from sklearn.svm import SVC\n",
        " \n",
        "# # GaussianNB is used in Binomial Classification\n",
        "# # MultinomialNB is used in multi-class classification\n",
        "# #clf = GaussianNB()\n",
        "\n",
        "\n",
        "# # start = time.time() \n",
        "\n",
        "# clf = SVC()\n",
        "# clf.fit(x_train,y_train)\n",
        "\n",
        "# print(clf)\n",
        " \n",
        "# sv=clf.fit(x_train,y_train)\n",
        "# prediction=sv.predict(x_test)\n",
        " \n",
        "# # Measuring accuracy on Testing Data\n",
        "# from sklearn import metrics\n",
        "# print(metrics.classification_report(y_val, prediction))\n",
        "# print(metrics.confusion_matrix(y_val, prediction))\n",
        " \n",
        "# # Printing the Overall Accuracy of the model\n",
        "# F1_Score=metrics.f1_score(y_val, prediction, average='weighted')\n",
        "# print('Accuracy of the model on Testing Sample Data:', round(F1_Score,2))\n",
        " \n",
        "# # Importing cross validation function from sklearn\n",
        "# from sklearn.model_selection import cross_val_score\n",
        " \n",
        "# # Running 10-Fold Cross validation on a given algorithm\n",
        "# # Passing full data X and y because the K-fold will split the data and automatically choose train/test\n",
        "\n",
        "\n",
        "\n",
        "\n",
        "# # Accuracy_Values=cross_val_score(NB, X , y, cv=5, scoring='f1_weighted')\n",
        "# # print('\\nAccuracy values for 5-fold Cross Validation:\\n',Accuracy_Values)\n",
        "# # print('\\nFinal Average Accuracy of the model:', round(Accuracy_Values.mean(),2))"
      ]
    },
    {
      "cell_type": "code",
      "execution_count": 81,
      "id": "366688b8",
      "metadata": {
        "id": "366688b8"
      },
      "outputs": [],
      "source": [
        "# from sklearn.naive_bayes import GaussianNB\n",
        "# from sklearn.metrics import confusion_matrix"
      ]
    },
    {
      "cell_type": "code",
      "execution_count": 82,
      "id": "ef79d967",
      "metadata": {
        "id": "ef79d967"
      },
      "outputs": [],
      "source": [
        "# classifier = GaussianNB();\n",
        "# classifier.fit(x_train, y_train)"
      ]
    },
    {
      "cell_type": "code",
      "execution_count": 83,
      "id": "15bb1ad0",
      "metadata": {
        "id": "15bb1ad0"
      },
      "outputs": [],
      "source": [
        "# y_pred = classifier.predict(x_test)\n",
        " \n",
        "# # # making the confusion matrix\n",
        "# # cm = confusion_matrix(y_val, y_pred)\n",
        "# # cm"
      ]
    },
    {
      "cell_type": "code",
      "execution_count": 84,
      "id": "af36a784",
      "metadata": {
        "id": "af36a784"
      },
      "outputs": [],
      "source": [
        "# from sklearn import metrics\n",
        "# from sklearn.metrics import accuracy_score\n",
        "# print('Accuracy achieved is ' + str(np.mean(y_pred == y_val)))\n",
        "# # print(metrics.classification_report(y_val, y_pred)),\n",
        "# # metrics.confusion_matrix(y_val, y_pred)"
      ]
    },
    {
      "cell_type": "code",
      "execution_count": 85,
      "id": "f309101e",
      "metadata": {
        "id": "f309101e"
      },
      "outputs": [],
      "source": [
        "# from sklearn.svm import SVC"
      ]
    },
    {
      "cell_type": "code",
      "execution_count": 86,
      "id": "634ed404",
      "metadata": {
        "id": "634ed404"
      },
      "outputs": [],
      "source": [
        "# # start = time.time() \n",
        "\n",
        "# svm_classifier = SVC()\n",
        "# svm_classifier.fit(x_train,y_train)\n",
        "\n",
        "# end = time.time()\n",
        "# # process = round(end-start,2)\n",
        "# # print(\"Support Vector Machine Classifier has fitted, this process took {} seconds\".format(process))"
      ]
    },
    {
      "cell_type": "code",
      "execution_count": 87,
      "id": "07e425de",
      "metadata": {
        "id": "07e425de"
      },
      "outputs": [],
      "source": [
        "# svm_classifier.score(x_test,y_test)"
      ]
    },
    {
      "cell_type": "code",
      "execution_count": 87,
      "id": "b8935e1c",
      "metadata": {
        "id": "b8935e1c"
      },
      "outputs": [],
      "source": [
        ""
      ]
    },
    {
      "cell_type": "code",
      "execution_count": 87,
      "id": "0aeb26c2",
      "metadata": {
        "id": "0aeb26c2"
      },
      "outputs": [],
      "source": [
        ""
      ]
    },
    {
      "cell_type": "code",
      "execution_count": 88,
      "id": "a4cd8528",
      "metadata": {
        "colab": {
          "base_uri": "https://localhost:8080/"
        },
        "id": "a4cd8528",
        "outputId": "4a014926-7594-4a09-976f-66e0c408d870"
      },
      "outputs": [
        {
          "output_type": "execute_result",
          "data": {
            "text/plain": [
              "421709"
            ]
          },
          "metadata": {},
          "execution_count": 88
        }
      ],
      "source": [
        "len(embedding_matrix)"
      ]
    },
    {
      "cell_type": "code",
      "execution_count": null,
      "id": "ff101d5c",
      "metadata": {
        "colab": {
          "base_uri": "https://localhost:8080/"
        },
        "id": "ff101d5c",
        "outputId": "7b2d68e6-f372-436c-e289-5009b5df6b33"
      },
      "outputs": [
        {
          "output_type": "stream",
          "name": "stdout",
          "text": [
            "Model: \"sequential\"\n",
            "_________________________________________________________________\n",
            " Layer (type)                Output Shape              Param #   \n",
            "=================================================================\n",
            " embedding (Embedding)       (None, 300, 300)          126512700 \n",
            "                                                                 \n",
            " dropout (Dropout)           (None, 300, 300)          0         \n",
            "                                                                 \n",
            " lstm (LSTM)                 (None, 64)                93440     \n",
            "                                                                 \n",
            " dense (Dense)               (None, 18)                1170      \n",
            "                                                                 \n",
            "=================================================================\n",
            "Total params: 126,607,310\n",
            "Trainable params: 94,610\n",
            "Non-trainable params: 126,512,700\n",
            "_________________________________________________________________\n",
            "Epoch 1/8\n",
            "2900/2900 [==============================] - 4573s 2s/step - loss: 1.8999 - accuracy: 0.3930 - val_loss: 1.7558 - val_accuracy: 0.4391\n",
            "Epoch 2/8\n",
            "2900/2900 [==============================] - 4898s 2s/step - loss: 1.7713 - accuracy: 0.4311 - val_loss: 1.7089 - val_accuracy: 0.4508\n",
            "Epoch 3/8\n",
            "2900/2900 [==============================] - 5100s 2s/step - loss: 1.7366 - accuracy: 0.4416 - val_loss: 1.6922 - val_accuracy: 0.4556\n",
            "Epoch 4/8\n",
            "2900/2900 [==============================] - 5074s 2s/step - loss: 1.7200 - accuracy: 0.4465 - val_loss: 1.6810 - val_accuracy: 0.4598\n",
            "Epoch 5/8\n",
            "2349/2900 [=======================>......] - ETA: 15:56 - loss: 1.7100 - accuracy: 0.4497"
          ]
        }
      ],
      "source": [
        "embedding_layer = Embedding(vocab_size, 300, weights=[embedding_matrix], input_length=300, trainable=False)\n",
        "\n",
        "model = Sequential()\n",
        "model.add(embedding_layer)\n",
        "model.add(Dropout(0.2))\n",
        "model.add(LSTM(64, dropout=0.2, recurrent_dropout=0.2))\n",
        "model.add(Dense(18, activation='softmax'))\n",
        "\n",
        "model.summary()\n",
        "\n",
        "#\n",
        "model.compile(loss='sparse_categorical_crossentropy', optimizer='adam', metrics=['accuracy'])\n",
        "\n",
        "from keras.callbacks import ReduceLROnPlateau, EarlyStopping\n",
        "\n",
        "# callbacks = [ ReduceLROnPlateau(monitor='val_loss', patience=5, cooldown=0),\n",
        "#               EarlyStopping(monitor='val_acc', min_delta=1e-4, patience=5)]\n",
        "\n",
        "\n",
        "epochs = 5\n",
        "batch_size = 128\n",
        "history = model.fit(x_train, y_train, epochs=8, \n",
        "                    batch_size = batch_size, validation_split=0.1,\n",
        "                    callbacks= [EarlyStopping(monitor='val_loss', patience=3, min_delta=0.0001)])\n"
      ]
    },
    {
      "cell_type": "code",
      "execution_count": null,
      "id": "c1ad9e73",
      "metadata": {
        "id": "c1ad9e73"
      },
      "outputs": [],
      "source": [
        "y_train.reshape(412377,1)\n",
        "y_train"
      ]
    },
    {
      "cell_type": "code",
      "execution_count": null,
      "id": "d23555ce",
      "metadata": {
        "id": "d23555ce"
      },
      "outputs": [],
      "source": [
        "# x_train_lst = df['tweets'].tolist()\n",
        "# cores = multiprocessing.cpu_count() \n",
        "# cores\n",
        "# w2v_model = Word2Vec(vector_size=300, window=5, min_count=1, workers=cores-1, sg= 1)\n",
        "# w2v_model.build_vocab(x_train_lst)\n",
        "\n",
        "# w2v_model.train(x_train_lst, total_examples= len(x_train_lst),epochs=10)\n",
        "\n",
        "# w2v_model.wv.n_similarity(['جيد'],['حلو'])\n",
        "\n",
        "# model = Word2Vec(sentences=x_train_lst, vector_size=300, window=5, min_count=1, workers=cores-1, sg= 1)\n",
        "# w2v_model.wv.vectors.shape\n",
        "\n",
        "\n",
        "\n",
        "\n",
        "\n",
        "# import time\n",
        "# w2v_model = Word2Vec(min_count=20,\n",
        "#                      window=2,\n",
        "#                      vector_size=300,\n",
        "#                      sample=6e-5, \n",
        "#                      alpha=0.03, \n",
        "#                      min_alpha=0.0007, \n",
        "#                      negative=20,\n",
        "#                      workers=cores-1)\n",
        "\n",
        "\n",
        "# t = time()\n",
        "\n",
        "# w2v_model.build_vocab(data, progress_per=10000)\n",
        "\n",
        "# print('Time to build vocab: {} mins'.format(round((time() - t) / 60, 2)))\n",
        "\n",
        "# model.wv.get_vector('من')\n",
        "# model.wv.n_similarity(['جيد'],['حلو'])\n",
        "\n",
        "\n",
        "\n"
      ]
    },
    {
      "cell_type": "code",
      "execution_count": 42,
      "id": "0b0eb84d",
      "metadata": {
        "id": "0b0eb84d"
      },
      "outputs": [],
      "source": [
        "# from sklearn.feature_extraction.text import CountVectorizer\n",
        " \n",
        "# # Ticket Data\n",
        "# corpus = df['tweets'].values\n",
        " \n",
        "# # Creating the vectorizer\n",
        "# vectorizer = CountVectorizer()\n",
        " \n",
        "# # Converting the text to numeric data\n",
        "# X = vectorizer.fit_transform(corpus)\n",
        " \n",
        "# type(X)"
      ]
    },
    {
      "cell_type": "code",
      "execution_count": 43,
      "id": "c4d71978",
      "metadata": {
        "id": "c4d71978"
      },
      "outputs": [],
      "source": [
        "# X.shape"
      ]
    },
    {
      "cell_type": "code",
      "execution_count": 44,
      "id": "567c03f1",
      "metadata": {
        "id": "567c03f1"
      },
      "outputs": [],
      "source": [
        "# vectorizer.get_feature_names()[:-20]"
      ]
    },
    {
      "cell_type": "code",
      "execution_count": 44,
      "id": "8ce24d94",
      "metadata": {
        "id": "8ce24d94"
      },
      "outputs": [],
      "source": [
        ""
      ]
    }
  ],
  "metadata": {
    "kernelspec": {
      "display_name": "Python 3",
      "language": "python",
      "name": "python3"
    },
    "language_info": {
      "codemirror_mode": {
        "name": "ipython",
        "version": 3
      },
      "file_extension": ".py",
      "mimetype": "text/x-python",
      "name": "python",
      "nbconvert_exporter": "python",
      "pygments_lexer": "ipython3",
      "version": "3.8.8"
    },
    "colab": {
      "name": "Data pre-processing.ipynb",
      "provenance": []
    }
  },
  "nbformat": 4,
  "nbformat_minor": 5
}