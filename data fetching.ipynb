{
 "cells": [
  {
   "cell_type": "code",
   "execution_count": 1,
   "id": "a9ce1f3b",
   "metadata": {},
   "outputs": [],
   "source": [
    "import requests\n",
    "import pandas as pd\n",
    "import json"
   ]
  },
  {
   "cell_type": "code",
   "execution_count": 2,
   "id": "e9e8869c",
   "metadata": {},
   "outputs": [
    {
     "data": {
      "text/plain": [
       "(458197, 2)"
      ]
     },
     "execution_count": 2,
     "metadata": {},
     "output_type": "execute_result"
    }
   ],
   "source": [
    "df_no_tweets = pd.read_csv('dialect_dataset.csv')\n",
    "df_no_tweets.shape"
   ]
  },
  {
   "cell_type": "markdown",
   "id": "ce61ea26",
   "metadata": {},
   "source": [
    "### Convert ids to string"
   ]
  },
  {
   "cell_type": "code",
   "execution_count": 3,
   "id": "f5b0ee44",
   "metadata": {},
   "outputs": [],
   "source": [
    "ids = df_no_tweets['id']\n",
    "ids = ids.tolist()\n",
    "ids =[str(id)for id in ids ]"
   ]
  },
  {
   "cell_type": "code",
   "execution_count": 6,
   "id": "59849a13",
   "metadata": {},
   "outputs": [],
   "source": [
    "url='https://recruitment.aimtechnologies.co/ai-tasks'"
   ]
  },
  {
   "cell_type": "markdown",
   "id": "b07d2a71",
   "metadata": {},
   "source": [
    "### data fetching"
   ]
  },
  {
   "cell_type": "code",
   "execution_count": 7,
   "id": "b9d957b2",
   "metadata": {},
   "outputs": [],
   "source": [
    "def get_tweets(url,ids_lst):\n",
    "    lst_tweets=[]\n",
    "    json_ids = json.dumps(ids_lst)\n",
    "    response = requests.post(url, json_ids)\n",
    "    dic_tweets = json.loads(response.text)\n",
    "    lst_tweets.append(list(dic_tweets.values()))\n",
    "    return lst_tweets"
   ]
  },
  {
   "cell_type": "code",
   "execution_count": 8,
   "id": "833fee59",
   "metadata": {},
   "outputs": [],
   "source": [
    "count = 0\n",
    "increment = 1000\n",
    "tweets=[]\n",
    "while count<= len(ids):\n",
    "    if count + increment <=len(ids):\n",
    "        tweets.append(get_tweets(url,ids[count:count+increment]))\n",
    "    else:\n",
    "        tweets.append(get_tweets(url,ids[count:len(ids)]))\n",
    "    \n",
    "    count+= increment"
   ]
  },
  {
   "cell_type": "code",
   "execution_count": 9,
   "id": "a2fa2512",
   "metadata": {},
   "outputs": [],
   "source": [
    "all_tweets=[]  \n",
    "for i in range(len(tweets)):\n",
    "    for j in range(len(tweets[i][0])):\n",
    "        all_tweets.append(tweets[i][0][j])    "
   ]
  },
  {
   "cell_type": "markdown",
   "id": "c49f9ea6",
   "metadata": {},
   "source": [
    "### creating complete dataframe"
   ]
  },
  {
   "cell_type": "code",
   "execution_count": 10,
   "id": "0e8bda09",
   "metadata": {},
   "outputs": [],
   "source": [
    "data = {'ids':ids,'tweets':all_tweets,'dialect':df_no_tweets['dialect'].tolist()}"
   ]
  },
  {
   "cell_type": "code",
   "execution_count": 11,
   "id": "7ed7c56e",
   "metadata": {},
   "outputs": [
    {
     "data": {
      "text/html": [
       "<div>\n",
       "<style scoped>\n",
       "    .dataframe tbody tr th:only-of-type {\n",
       "        vertical-align: middle;\n",
       "    }\n",
       "\n",
       "    .dataframe tbody tr th {\n",
       "        vertical-align: top;\n",
       "    }\n",
       "\n",
       "    .dataframe thead th {\n",
       "        text-align: right;\n",
       "    }\n",
       "</style>\n",
       "<table border=\"1\" class=\"dataframe\">\n",
       "  <thead>\n",
       "    <tr style=\"text-align: right;\">\n",
       "      <th></th>\n",
       "      <th>ids</th>\n",
       "      <th>tweets</th>\n",
       "      <th>dialect</th>\n",
       "    </tr>\n",
       "  </thead>\n",
       "  <tbody>\n",
       "    <tr>\n",
       "      <th>0</th>\n",
       "      <td>1175358310087892992</td>\n",
       "      <td>@Nw8ieJUwaCAAreT لكن بالنهاية .. ينتفض .. يغير .</td>\n",
       "      <td>IQ</td>\n",
       "    </tr>\n",
       "    <tr>\n",
       "      <th>1</th>\n",
       "      <td>1175416117793349632</td>\n",
       "      <td>@7zNqXP0yrODdRjK يعني هذا محسوب على البشر .. ح...</td>\n",
       "      <td>IQ</td>\n",
       "    </tr>\n",
       "    <tr>\n",
       "      <th>2</th>\n",
       "      <td>1175450108898565888</td>\n",
       "      <td>@KanaanRema مبين من كلامه خليجي</td>\n",
       "      <td>IQ</td>\n",
       "    </tr>\n",
       "    <tr>\n",
       "      <th>3</th>\n",
       "      <td>1175471073770573824</td>\n",
       "      <td>@HAIDER76128900 يسلملي مرورك وروحك الحلوه💐</td>\n",
       "      <td>IQ</td>\n",
       "    </tr>\n",
       "    <tr>\n",
       "      <th>4</th>\n",
       "      <td>1175496913145217024</td>\n",
       "      <td>@hmo2406 وين هل الغيبه  اخ محمد 🌸🌺</td>\n",
       "      <td>IQ</td>\n",
       "    </tr>\n",
       "    <tr>\n",
       "      <th>...</th>\n",
       "      <td>...</td>\n",
       "      <td>...</td>\n",
       "      <td>...</td>\n",
       "    </tr>\n",
       "    <tr>\n",
       "      <th>458192</th>\n",
       "      <td>1019484980282580992</td>\n",
       "      <td>@Al_mhbaa_7 مبسوطين منك اللي باسطانا😅</td>\n",
       "      <td>BH</td>\n",
       "    </tr>\n",
       "    <tr>\n",
       "      <th>458193</th>\n",
       "      <td>1021083283709407232</td>\n",
       "      <td>@Zzainabali @P_ameerah والله ماينده ابش يختي</td>\n",
       "      <td>BH</td>\n",
       "    </tr>\n",
       "    <tr>\n",
       "      <th>458194</th>\n",
       "      <td>1017477537889431552</td>\n",
       "      <td>@Al_mhbaa_7 شو عملنا لك حنا تهربي مننا احنا مس...</td>\n",
       "      <td>BH</td>\n",
       "    </tr>\n",
       "    <tr>\n",
       "      <th>458195</th>\n",
       "      <td>1022430374696239232</td>\n",
       "      <td>@haneenalmwla الله يبارك فيها وبالعافيه 😋😋😋</td>\n",
       "      <td>BH</td>\n",
       "    </tr>\n",
       "    <tr>\n",
       "      <th>458196</th>\n",
       "      <td>1022409931029458944</td>\n",
       "      <td>@jolnar121 السحله ضيفي ي بتطلع لك سحليه😅😅</td>\n",
       "      <td>BH</td>\n",
       "    </tr>\n",
       "  </tbody>\n",
       "</table>\n",
       "<p>458197 rows × 3 columns</p>\n",
       "</div>"
      ],
      "text/plain": [
       "                        ids  \\\n",
       "0       1175358310087892992   \n",
       "1       1175416117793349632   \n",
       "2       1175450108898565888   \n",
       "3       1175471073770573824   \n",
       "4       1175496913145217024   \n",
       "...                     ...   \n",
       "458192  1019484980282580992   \n",
       "458193  1021083283709407232   \n",
       "458194  1017477537889431552   \n",
       "458195  1022430374696239232   \n",
       "458196  1022409931029458944   \n",
       "\n",
       "                                                   tweets dialect  \n",
       "0        @Nw8ieJUwaCAAreT لكن بالنهاية .. ينتفض .. يغير .      IQ  \n",
       "1       @7zNqXP0yrODdRjK يعني هذا محسوب على البشر .. ح...      IQ  \n",
       "2                         @KanaanRema مبين من كلامه خليجي      IQ  \n",
       "3              @HAIDER76128900 يسلملي مرورك وروحك الحلوه💐      IQ  \n",
       "4                      @hmo2406 وين هل الغيبه  اخ محمد 🌸🌺      IQ  \n",
       "...                                                   ...     ...  \n",
       "458192              @Al_mhbaa_7 مبسوطين منك اللي باسطانا😅      BH  \n",
       "458193       @Zzainabali @P_ameerah والله ماينده ابش يختي      BH  \n",
       "458194  @Al_mhbaa_7 شو عملنا لك حنا تهربي مننا احنا مس...      BH  \n",
       "458195        @haneenalmwla الله يبارك فيها وبالعافيه 😋😋😋      BH  \n",
       "458196          @jolnar121 السحله ضيفي ي بتطلع لك سحليه😅😅      BH  \n",
       "\n",
       "[458197 rows x 3 columns]"
      ]
     },
     "execution_count": 11,
     "metadata": {},
     "output_type": "execute_result"
    }
   ],
   "source": [
    "df = pd.DataFrame(data)\n",
    "df"
   ]
  },
  {
   "cell_type": "code",
   "execution_count": 12,
   "id": "0ded1807",
   "metadata": {},
   "outputs": [],
   "source": [
    "df.to_csv('arabic_tweets.csv')"
   ]
  },
  {
   "cell_type": "code",
   "execution_count": null,
   "id": "b44d7b75",
   "metadata": {},
   "outputs": [],
   "source": []
  }
 ],
 "metadata": {
  "kernelspec": {
   "display_name": "Python 3",
   "language": "python",
   "name": "python3"
  },
  "language_info": {
   "codemirror_mode": {
    "name": "ipython",
    "version": 3
   },
   "file_extension": ".py",
   "mimetype": "text/x-python",
   "name": "python",
   "nbconvert_exporter": "python",
   "pygments_lexer": "ipython3",
   "version": "3.8.8"
  }
 },
 "nbformat": 4,
 "nbformat_minor": 5
}
